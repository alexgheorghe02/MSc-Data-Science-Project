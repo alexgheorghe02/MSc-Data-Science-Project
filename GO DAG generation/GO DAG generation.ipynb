{
  "nbformat": 4,
  "nbformat_minor": 0,
  "metadata": {
    "colab": {
      "name": "Edges.ipynb",
      "provenance": [],
      "collapsed_sections": []
    },
    "kernelspec": {
      "name": "python3",
      "display_name": "Python 3"
    },
    "language_info": {
      "name": "python"
    }
  },
  "cells": [
    {
      "cell_type": "code",
      "metadata": {
        "id": "tZWsE6OmymVt"
      },
      "source": [
        "import pandas as pd"
      ],
      "execution_count": null,
      "outputs": []
    },
    {
      "cell_type": "code",
      "metadata": {
        "id": "KyNVMeXnyzYD"
      },
      "source": [
        "#function to generate the GO DAG as edge pairs\n",
        "def get_edges(input, output):\n",
        "  df = pd.read_csv(input, header = None, delimiter = '\\t')\n",
        "  columns = df.shape[1]\n",
        "  df.drop([1, 2], axis = 1, inplace = True)\n",
        "  df.drop(list(range(4, columns+1, 2)), axis = 1, inplace = True)\n",
        "  melt = df.melt(id_vars=0)\n",
        "  sorted_df = melt.sort_values(by=0, ascending=True)\n",
        "  sorted_df.dropna(axis=0, how='any', inplace=True)\n",
        "  sorted_df.drop('variable', axis = 1, inplace=True)\n",
        "  sorted_df.to_csv(output, header = None, index = None, sep = '\\t')\n",
        "  return\n",
        "\n",
        "\n",
        "\n"
      ],
      "execution_count": null,
      "outputs": []
    },
    {
      "cell_type": "code",
      "metadata": {
        "id": "H3uPODwJDT2_"
      },
      "source": [
        "get_edges('go-basic.obo.P.tsv', 'P-edges.txt')"
      ],
      "execution_count": null,
      "outputs": []
    },
    {
      "cell_type": "code",
      "metadata": {
        "id": "wcCrW03LDtlp"
      },
      "source": [
        "get_edges('go-basic.obo.C.tsv', 'C-edges.txt')"
      ],
      "execution_count": null,
      "outputs": []
    },
    {
      "cell_type": "code",
      "metadata": {
        "id": "KKWwiBv1T13D"
      },
      "source": [
        "get_edges('go-basic.obo.F.tsv', 'F-edges.txt')"
      ],
      "execution_count": null,
      "outputs": []
    }
  ]
}