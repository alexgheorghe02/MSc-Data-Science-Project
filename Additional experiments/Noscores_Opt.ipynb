{
  "cells": [
    {
      "cell_type": "code",
      "execution_count": null,
      "metadata": {
        "colab": {
          "base_uri": "https://localhost:8080/"
        },
        "id": "R9Ug_TykSzQj",
        "outputId": "6dcc3a1a-cee1-47b8-f5a0-b47f28312cd1"
      },
      "outputs": [
        {
          "name": "stdout",
          "output_type": "stream",
          "text": [
            "Collecting gensim==4.1.2\n",
            "  Downloading gensim-4.1.2-cp37-cp37m-manylinux_2_12_x86_64.manylinux2010_x86_64.whl (24.1 MB)\n",
            "\u001b[K     |████████████████████████████████| 24.1 MB 81.6 MB/s \n",
            "\u001b[?25hRequirement already satisfied: scipy>=0.18.1 in /usr/local/lib/python3.7/dist-packages (from gensim==4.1.2) (1.4.1)\n",
            "Requirement already satisfied: numpy>=1.17.0 in /usr/local/lib/python3.7/dist-packages (from gensim==4.1.2) (1.21.5)\n",
            "Requirement already satisfied: smart-open>=1.8.1 in /usr/local/lib/python3.7/dist-packages (from gensim==4.1.2) (5.2.1)\n",
            "Installing collected packages: gensim\n",
            "  Attempting uninstall: gensim\n",
            "    Found existing installation: gensim 3.6.0\n",
            "    Uninstalling gensim-3.6.0:\n",
            "      Successfully uninstalled gensim-3.6.0\n",
            "Successfully installed gensim-4.1.2\n"
          ]
        }
      ],
      "source": [
        "!pip install gensim==4.1.2"
      ]
    },
    {
      "cell_type": "code",
      "execution_count": null,
      "metadata": {
        "id": "4K3hj53QTEzp"
      },
      "outputs": [],
      "source": [
        "from node2vec import *\n",
        "from gensim.models import KeyedVectors\n",
        "import numpy as np\n",
        "import os \n",
        "import pandas as pd\n",
        "import matplotlib.pyplot as plt\n",
        "import matplotlib as mpl\n",
        "os.environ['PYTHONHASHSEED']='123'\n",
        "from sklearn.preprocessing import LabelEncoder\n",
        "from sklearn.metrics import make_scorer, f1_score, plot_roc_curve, auc, accuracy_score, roc_auc_score, roc_curve, matthews_corrcoef\n",
        "from sklearn.model_selection import cross_validate, StratifiedKFold\n",
        "from sklearn.model_selection import GridSearchCV\n",
        "from sklearn.svm import SVC"
      ]
    },
    {
      "cell_type": "code",
      "execution_count": null,
      "metadata": {
        "id": "wQql2UgrTHPD"
      },
      "outputs": [],
      "source": [
        "def to_unweighted(G):\n",
        "    for edge in G.edges():\n",
        "            G[edge[0]][edge[1]]['weight'] = 1\n",
        "    return G\n",
        "\n",
        "def run_walks(graph, p, q):\n",
        "    graph = to_unweighted(read_graph(graph, weighted = True))\n",
        "    random.seed(1)\n",
        "    np.random.seed(1)\n",
        "    G = Node2Vec(graph, p, q)\n",
        "    G.preprocess_transition_probs()\n",
        "    walks = G.simulate_walks(num_walks = 20, walk_length = 80)\n",
        "    return walks\n",
        "\n",
        "def run_walks_hub(graph, h):\n",
        "    graph = read_graph(graph, weighted = True)\n",
        "    random.seed(1)\n",
        "    np.random.seed(1)\n",
        "    G = HubsWalker(graph, h)\n",
        "    G.preprocess_transition_probs()\n",
        "    walks = G.simulate_walks(num_walks = 20, walk_length = 80)\n",
        "    return walks\n",
        "\n",
        "def embeddings(walks, dimensions, output):\n",
        "    model = learn_embeddings(walks, dimensions, 10, 5, output)\n",
        "    return model"
      ]
    },
    {
      "cell_type": "code",
      "execution_count": null,
      "metadata": {
        "colab": {
          "background_save": true,
          "base_uri": "https://localhost:8080/",
          "height": 658
        },
        "id": "17WSgIbnTYs0",
        "outputId": "666bb6b3-b0ab-4050-8b63-801bd03bf27b"
      },
      "outputs": [
        {
          "name": "stderr",
          "output_type": "stream",
          "text": [
            "100%|██████████| 2968/2968 [00:01<00:00, 1502.39it/s]\n",
            "Walk 1/20: 100%|██████████| 2968/2968 [00:21<00:00, 139.71it/s]\n",
            "Walk 2/20: 100%|██████████| 2968/2968 [00:21<00:00, 138.08it/s]\n",
            "Walk 3/20: 100%|██████████| 2968/2968 [00:21<00:00, 137.35it/s]\n",
            "Walk 4/20: 100%|██████████| 2968/2968 [00:21<00:00, 137.25it/s]\n",
            "Walk 5/20: 100%|██████████| 2968/2968 [00:21<00:00, 137.16it/s]\n",
            "Walk 6/20: 100%|██████████| 2968/2968 [00:21<00:00, 139.87it/s]\n",
            "Walk 7/20: 100%|██████████| 2968/2968 [00:21<00:00, 139.93it/s]\n",
            "Walk 8/20: 100%|██████████| 2968/2968 [00:21<00:00, 138.61it/s]\n",
            "Walk 9/20: 100%|██████████| 2968/2968 [00:21<00:00, 138.77it/s]\n",
            "Walk 10/20: 100%|██████████| 2968/2968 [00:21<00:00, 140.16it/s]\n",
            "Walk 11/20: 100%|██████████| 2968/2968 [00:21<00:00, 138.71it/s]\n",
            "Walk 12/20: 100%|██████████| 2968/2968 [00:21<00:00, 140.72it/s]\n",
            "Walk 13/20: 100%|██████████| 2968/2968 [00:21<00:00, 139.88it/s]\n",
            "Walk 14/20: 100%|██████████| 2968/2968 [00:21<00:00, 139.66it/s]\n",
            "Walk 15/20: 100%|██████████| 2968/2968 [00:20<00:00, 141.36it/s]\n",
            "Walk 16/20: 100%|██████████| 2968/2968 [00:21<00:00, 137.15it/s]\n",
            "Walk 17/20: 100%|██████████| 2968/2968 [00:21<00:00, 137.03it/s]\n",
            "Walk 18/20: 100%|██████████| 2968/2968 [00:21<00:00, 138.76it/s]\n",
            "Walk 19/20: 100%|██████████| 2968/2968 [00:20<00:00, 141.61it/s]\n",
            "Walk 20/20: 100%|██████████| 2968/2968 [00:21<00:00, 140.59it/s]\n"
          ]
        }
      ],
      "source": [
        "model_p25_q200_noscore = embeddings(run_walks('PPI_BP_edgelist_EXP.txt', p = 0.25, q = 2), 512, 'model_p25_q200_NoScore.txt')"
      ]
    },
    {
      "cell_type": "code",
      "execution_count": null,
      "metadata": {
        "colab": {
          "background_save": true
        },
        "id": "WoiJGo_NVb2Z",
        "outputId": "94add017-ff4f-409f-9612-520fe8eb9587"
      },
      "outputs": [
        {
          "name": "stderr",
          "output_type": "stream",
          "text": [
            "100%|██████████| 2968/2968 [00:01<00:00, 1544.09it/s]\n",
            "Walk 1/20: 100%|██████████| 2968/2968 [00:19<00:00, 154.01it/s]\n",
            "Walk 2/20: 100%|██████████| 2968/2968 [00:19<00:00, 152.32it/s]\n",
            "Walk 3/20: 100%|██████████| 2968/2968 [00:19<00:00, 155.79it/s]\n",
            "Walk 4/20: 100%|██████████| 2968/2968 [00:19<00:00, 155.58it/s]\n",
            "Walk 5/20: 100%|██████████| 2968/2968 [00:19<00:00, 153.15it/s]\n",
            "Walk 6/20: 100%|██████████| 2968/2968 [00:19<00:00, 154.28it/s]\n",
            "Walk 7/20: 100%|██████████| 2968/2968 [00:19<00:00, 150.51it/s]\n",
            "Walk 8/20: 100%|██████████| 2968/2968 [00:19<00:00, 152.32it/s]\n",
            "Walk 9/20: 100%|██████████| 2968/2968 [00:19<00:00, 154.74it/s]\n",
            "Walk 10/20: 100%|██████████| 2968/2968 [00:19<00:00, 155.40it/s]\n",
            "Walk 11/20: 100%|██████████| 2968/2968 [00:19<00:00, 153.12it/s]\n",
            "Walk 12/20: 100%|██████████| 2968/2968 [00:18<00:00, 156.70it/s]\n",
            "Walk 13/20: 100%|██████████| 2968/2968 [00:19<00:00, 155.82it/s]\n",
            "Walk 14/20: 100%|██████████| 2968/2968 [00:19<00:00, 155.15it/s]\n",
            "Walk 15/20: 100%|██████████| 2968/2968 [00:19<00:00, 152.40it/s]\n",
            "Walk 16/20: 100%|██████████| 2968/2968 [00:19<00:00, 152.99it/s]\n",
            "Walk 17/20: 100%|██████████| 2968/2968 [00:19<00:00, 153.36it/s]\n",
            "Walk 18/20: 100%|██████████| 2968/2968 [00:20<00:00, 147.43it/s]\n",
            "Walk 19/20: 100%|██████████| 2968/2968 [00:19<00:00, 154.16it/s]\n",
            "Walk 20/20: 100%|██████████| 2968/2968 [00:19<00:00, 151.62it/s]\n"
          ]
        }
      ],
      "source": [
        "model_p50_q100_noscore = embeddings(run_walks('PPI_BP_edgelist_EXP.txt', p = 0.5, q = 1), 512, 'model_p50_q100_NoScore.txt')"
      ]
    },
    {
      "cell_type": "code",
      "execution_count": null,
      "metadata": {
        "id": "mXfY8xIEVf5K"
      },
      "outputs": [],
      "source": [
        "model_p200_q25_noscore = embeddings(run_walks('PPI_BP_edgelist_EXP.txt', p = 2, q = 0.25), 512, 'model_p200_q25_NoScore.txt')"
      ]
    },
    {
      "cell_type": "code",
      "execution_count": null,
      "metadata": {
        "colab": {
          "background_save": true
        },
        "id": "CBUmzqdQVjAY",
        "outputId": "1e1f495a-ed36-4994-9c42-9562e18a8b9c"
      },
      "outputs": [
        {
          "name": "stderr",
          "output_type": "stream",
          "text": [
            "100%|██████████| 2968/2968 [00:02<00:00, 1035.62it/s]\n",
            "Walk 1/20: 100%|██████████| 2968/2968 [00:20<00:00, 147.26it/s]\n",
            "Walk 2/20: 100%|██████████| 2968/2968 [00:20<00:00, 142.71it/s]\n",
            "Walk 3/20: 100%|██████████| 2968/2968 [00:20<00:00, 144.94it/s]\n",
            "Walk 4/20: 100%|██████████| 2968/2968 [00:20<00:00, 142.13it/s]\n",
            "Walk 5/20: 100%|██████████| 2968/2968 [00:20<00:00, 143.45it/s]\n",
            "Walk 6/20: 100%|██████████| 2968/2968 [00:20<00:00, 144.81it/s]\n",
            "Walk 7/20: 100%|██████████| 2968/2968 [00:20<00:00, 143.89it/s]\n",
            "Walk 8/20: 100%|██████████| 2968/2968 [00:20<00:00, 146.96it/s]\n",
            "Walk 9/20: 100%|██████████| 2968/2968 [00:20<00:00, 141.64it/s]\n",
            "Walk 10/20: 100%|██████████| 2968/2968 [00:20<00:00, 147.29it/s]\n",
            "Walk 11/20: 100%|██████████| 2968/2968 [00:20<00:00, 145.97it/s]\n",
            "Walk 12/20: 100%|██████████| 2968/2968 [00:20<00:00, 143.15it/s]\n",
            "Walk 13/20: 100%|██████████| 2968/2968 [00:20<00:00, 144.94it/s]\n",
            "Walk 14/20: 100%|██████████| 2968/2968 [00:21<00:00, 139.46it/s]\n",
            "Walk 15/20: 100%|██████████| 2968/2968 [00:20<00:00, 148.30it/s]\n",
            "Walk 16/20: 100%|██████████| 2968/2968 [00:20<00:00, 142.26it/s]\n",
            "Walk 17/20: 100%|██████████| 2968/2968 [00:20<00:00, 147.09it/s]\n",
            "Walk 18/20: 100%|██████████| 2968/2968 [00:20<00:00, 146.28it/s]\n",
            "Walk 19/20: 100%|██████████| 2968/2968 [00:19<00:00, 151.78it/s]\n",
            "Walk 20/20: 100%|██████████| 2968/2968 [00:19<00:00, 151.59it/s]\n",
            "100%|██████████| 2968/2968 [00:02<00:00, 1027.63it/s]\n"
          ]
        }
      ],
      "source": [
        "model_h50_noscore = embeddings(run_walks_hub('PPI_BP_edgelist_EXP.txt', h = 0.5), 512, 'model_h50_noscore.txt')\n",
        "model_h75_noscore = embeddings(run_walks_hub('PPI_BP_edgelist_EXP.txt', h = 0.75), 512, 'model_h75_noscore.txt')"
      ]
    },
    {
      "cell_type": "code",
      "execution_count": null,
      "metadata": {
        "id": "SzsrRNLuVlqg"
      },
      "outputs": [],
      "source": [
        "model_h400_noscore = embeddings(run_walks_hub('PPI_BP_edgelist_EXP.txt', h = 4), 512, 'model_h400_noscore.txt')\n",
        "model_h800_noscore = embeddings(run_walks_hub('PPI_BP_edgelist_EXP.txt', h = 8), 512, 'model_h800_noscore.txt')"
      ]
    }
  ],
  "metadata": {
    "colab": {
      "name": "Noscores Opt.ipynb",
      "provenance": []
    },
    "kernelspec": {
      "display_name": "Python 3",
      "name": "python3"
    },
    "language_info": {
      "name": "python"
    }
  },
  "nbformat": 4,
  "nbformat_minor": 0
}