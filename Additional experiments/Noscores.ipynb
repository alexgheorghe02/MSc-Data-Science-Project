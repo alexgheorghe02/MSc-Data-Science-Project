{
  "nbformat": 4,
  "nbformat_minor": 0,
  "metadata": {
    "colab": {
      "name": "Noscores.ipynb",
      "provenance": []
    },
    "kernelspec": {
      "name": "python3",
      "display_name": "Python 3"
    },
    "language_info": {
      "name": "python"
    }
  },
  "cells": [
    {
      "cell_type": "code",
      "source": [
        "!pip install gensim==4.1.2"
      ],
      "metadata": {
        "id": "Ls9K0RwxHhHj",
        "outputId": "700ba406-6dc3-468e-a57a-bd9ffedda7c1",
        "colab": {
          "base_uri": "https://localhost:8080/",
          "height": 311
        }
      },
      "execution_count": null,
      "outputs": [
        {
          "output_type": "stream",
          "name": "stdout",
          "text": [
            "Collecting gensim==4.1.2\n",
            "  Downloading gensim-4.1.2-cp37-cp37m-manylinux_2_12_x86_64.manylinux2010_x86_64.whl (24.1 MB)\n",
            "\u001b[K     |████████████████████████████████| 24.1 MB 3.9 MB/s \n",
            "\u001b[?25hRequirement already satisfied: numpy>=1.17.0 in /usr/local/lib/python3.7/dist-packages (from gensim==4.1.2) (1.21.5)\n",
            "Requirement already satisfied: smart-open>=1.8.1 in /usr/local/lib/python3.7/dist-packages (from gensim==4.1.2) (5.2.1)\n",
            "Requirement already satisfied: scipy>=0.18.1 in /usr/local/lib/python3.7/dist-packages (from gensim==4.1.2) (1.4.1)\n",
            "Installing collected packages: gensim\n",
            "  Attempting uninstall: gensim\n",
            "    Found existing installation: gensim 3.6.0\n",
            "    Uninstalling gensim-3.6.0:\n",
            "      Successfully uninstalled gensim-3.6.0\n",
            "Successfully installed gensim-4.1.2\n"
          ]
        },
        {
          "output_type": "display_data",
          "data": {
            "application/vnd.colab-display-data+json": {
              "pip_warning": {
                "packages": [
                  "gensim"
                ]
              }
            }
          },
          "metadata": {}
        }
      ]
    },
    {
      "cell_type": "code",
      "execution_count": null,
      "metadata": {
        "id": "OxKND8f81H7q"
      },
      "outputs": [],
      "source": [
        "from node2vec import *\n",
        "from gensim.models import KeyedVectors\n",
        "import numpy as np\n",
        "import os \n",
        "import pandas as pd\n",
        "import matplotlib.pyplot as plt\n",
        "import matplotlib as mpl\n",
        "os.environ['PYTHONHASHSEED']='123'\n",
        "from sklearn.preprocessing import LabelEncoder\n",
        "from sklearn.linear_model import LogisticRegression\n",
        "from sklearn.metrics import f1_score, accuracy_score, roc_auc_score, make_scorer, matthews_corrcoef\n",
        "from sklearn.model_selection import cross_validate\n",
        "from sklearn.model_selection import GridSearchCV\n",
        "from sklearn.dummy import DummyClassifier\n",
        "from sklearn.svm import SVC\n",
        "from sklearn.neighbors import KNeighborsClassifier\n",
        "from sklearn.manifold import TSNE"
      ]
    },
    {
      "cell_type": "code",
      "source": [
        "#creating a node2vec pipeline for testing multiple Skip-gram dimensions\n",
        "def to_unweighted(G):\n",
        "    for edge in G.edges():\n",
        "            G[edge[0]][edge[1]]['weight'] = 1\n",
        "    return G\n",
        "\n",
        "def run_walks(graph):\n",
        "    graph = to_unweighted(read_graph(graph, weighted = True))\n",
        "    random.seed(1)\n",
        "    np.random.seed(1)\n",
        "    G = Node2Vec(graph, p = 1, q = 1)\n",
        "    G.preprocess_transition_probs()\n",
        "    walks = G.simulate_walks(num_walks = 20, walk_length = 80)\n",
        "    return walks\n",
        "\n",
        "def embeddings(walks, dimensions, output):\n",
        "    model = learn_embeddings(walks, dimensions, 10, 5, output)\n",
        "    return model\n",
        "\n",
        "dimensions = [32, 64, 128, 256, 512]\n",
        "\n",
        "def n2v_pip(graph, score, dimensions):\n",
        "    d = {}\n",
        "    walks = run_walks(graph)\n",
        "    for dimension in tqdm(dimensions):\n",
        "        model = embeddings(walks, dimension, \"%s %d.txt\" % (score, dimension))\n",
        "        d[dimension] = model\n",
        "    return d "
      ],
      "metadata": {
        "id": "us9V5AXY1SA4"
      },
      "execution_count": null,
      "outputs": []
    },
    {
      "cell_type": "code",
      "source": [
        "emb_IC = n2v_pip('PPI_BP_edgelist_EXP.txt', 'Noscore', dimensions)"
      ],
      "metadata": {
        "colab": {
          "base_uri": "https://localhost:8080/"
        },
        "id": "fTljwV1Y1Uo9",
        "outputId": "e88192aa-edf0-4614-fc5c-ddd2cde32082"
      },
      "execution_count": null,
      "outputs": [
        {
          "output_type": "stream",
          "name": "stderr",
          "text": [
            "100%|██████████| 2968/2968 [00:01<00:00, 1498.80it/s]\n",
            "Walk 1/20: 100%|██████████| 2968/2968 [00:22<00:00, 131.17it/s]\n",
            "Walk 2/20: 100%|██████████| 2968/2968 [00:21<00:00, 138.09it/s]\n",
            "Walk 3/20: 100%|██████████| 2968/2968 [00:21<00:00, 135.49it/s]\n",
            "Walk 4/20: 100%|██████████| 2968/2968 [00:22<00:00, 134.51it/s]\n",
            "Walk 5/20: 100%|██████████| 2968/2968 [00:20<00:00, 141.61it/s]\n",
            "Walk 6/20: 100%|██████████| 2968/2968 [00:21<00:00, 137.30it/s]\n",
            "Walk 7/20: 100%|██████████| 2968/2968 [00:21<00:00, 138.17it/s]\n",
            "Walk 8/20: 100%|██████████| 2968/2968 [00:20<00:00, 143.35it/s]\n",
            "Walk 9/20: 100%|██████████| 2968/2968 [00:21<00:00, 138.92it/s]\n",
            "Walk 10/20: 100%|██████████| 2968/2968 [00:20<00:00, 141.67it/s]\n",
            "Walk 11/20: 100%|██████████| 2968/2968 [00:20<00:00, 141.76it/s]\n",
            "Walk 12/20: 100%|██████████| 2968/2968 [00:22<00:00, 133.55it/s]\n",
            "Walk 13/20: 100%|██████████| 2968/2968 [00:21<00:00, 136.22it/s]\n",
            "Walk 14/20: 100%|██████████| 2968/2968 [00:20<00:00, 142.80it/s]\n",
            "Walk 15/20: 100%|██████████| 2968/2968 [00:21<00:00, 136.94it/s]\n",
            "Walk 16/20:  90%|█████████ | 2684/2968 [00:20<00:02, 141.30it/s]"
          ]
        }
      ]
    }
  ]
}