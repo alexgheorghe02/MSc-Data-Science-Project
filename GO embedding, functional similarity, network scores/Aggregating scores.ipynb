{
  "nbformat": 4,
  "nbformat_minor": 5,
  "metadata": {
    "kernelspec": {
      "display_name": "Python 3",
      "language": "python",
      "name": "python3"
    },
    "language_info": {
      "codemirror_mode": {
        "name": "ipython",
        "version": 3
      },
      "file_extension": ".py",
      "mimetype": "text/x-python",
      "name": "python",
      "nbconvert_exporter": "python",
      "pygments_lexer": "ipython3",
      "version": "3.8.8"
    },
    "colab": {
      "name": "Aggregating scores EXP.ipynb",
      "provenance": []
    }
  },
  "cells": [
    {
      "cell_type": "code",
      "metadata": {
        "id": "f656e240"
      },
      "source": [
        "import numpy as np\n",
        "import pandas as pd"
      ],
      "id": "f656e240",
      "execution_count": 1,
      "outputs": []
    },
    {
      "cell_type": "code",
      "metadata": {
        "id": "bb8dd520"
      },
      "source": [
        "#reading the FSim and IC-scored networks as pandas dataframes, scaling the IC score by dviding by 1000\n",
        "PPI_IC = pd.read_csv('PPI_BP_edgelist_EXP.txt', sep = ' ', names = ['P1', 'P2', 'IC'])\n",
        "PPI_IC['IC'] = PPI_IC['IC'].div(1000).round(3)\n",
        "PPI_Fsim = pd.read_csv('FSim_PPI_EXP.txt', sep = '\\t', names = ['P1', 'P2', 'FSim'])"
      ],
      "id": "bb8dd520",
      "execution_count": 2,
      "outputs": []
    },
    {
      "cell_type": "code",
      "metadata": {
        "colab": {
          "base_uri": "https://localhost:8080/",
          "height": 203
        },
        "id": "cda824a0",
        "outputId": "8927779a-788f-45e0-dc4d-fc12a80acb51"
      },
      "source": [
        "PPI_IC.head()"
      ],
      "id": "cda824a0",
      "execution_count": 3,
      "outputs": [
        {
          "output_type": "execute_result",
          "data": {
            "text/html": [
              "<div>\n",
              "<style scoped>\n",
              "    .dataframe tbody tr th:only-of-type {\n",
              "        vertical-align: middle;\n",
              "    }\n",
              "\n",
              "    .dataframe tbody tr th {\n",
              "        vertical-align: top;\n",
              "    }\n",
              "\n",
              "    .dataframe thead th {\n",
              "        text-align: right;\n",
              "    }\n",
              "</style>\n",
              "<table border=\"1\" class=\"dataframe\">\n",
              "  <thead>\n",
              "    <tr style=\"text-align: right;\">\n",
              "      <th></th>\n",
              "      <th>P1</th>\n",
              "      <th>P2</th>\n",
              "      <th>IC</th>\n",
              "    </tr>\n",
              "  </thead>\n",
              "  <tbody>\n",
              "    <tr>\n",
              "      <th>0</th>\n",
              "      <td>6239.R11A8.4a</td>\n",
              "      <td>6239.AC3.3</td>\n",
              "      <td>0.228</td>\n",
              "    </tr>\n",
              "    <tr>\n",
              "      <th>1</th>\n",
              "      <td>6239.R11A8.4a</td>\n",
              "      <td>6239.B0025.1a</td>\n",
              "      <td>0.222</td>\n",
              "    </tr>\n",
              "    <tr>\n",
              "      <th>2</th>\n",
              "      <td>6239.R11A8.4a</td>\n",
              "      <td>6239.B0035.14a.2</td>\n",
              "      <td>0.174</td>\n",
              "    </tr>\n",
              "    <tr>\n",
              "      <th>3</th>\n",
              "      <td>6239.R11A8.4a</td>\n",
              "      <td>6239.B0041.7</td>\n",
              "      <td>0.201</td>\n",
              "    </tr>\n",
              "    <tr>\n",
              "      <th>4</th>\n",
              "      <td>6239.R11A8.4a</td>\n",
              "      <td>6239.B0205.7</td>\n",
              "      <td>0.507</td>\n",
              "    </tr>\n",
              "  </tbody>\n",
              "</table>\n",
              "</div>"
            ],
            "text/plain": [
              "              P1                P2     IC\n",
              "0  6239.R11A8.4a        6239.AC3.3  0.228\n",
              "1  6239.R11A8.4a     6239.B0025.1a  0.222\n",
              "2  6239.R11A8.4a  6239.B0035.14a.2  0.174\n",
              "3  6239.R11A8.4a      6239.B0041.7  0.201\n",
              "4  6239.R11A8.4a      6239.B0205.7  0.507"
            ]
          },
          "metadata": {},
          "execution_count": 3
        }
      ]
    },
    {
      "cell_type": "code",
      "metadata": {
        "colab": {
          "base_uri": "https://localhost:8080/",
          "height": 203
        },
        "id": "39fc279d",
        "outputId": "de2d2626-0c22-4bf9-c2b3-8524090f8848"
      },
      "source": [
        "PPI_Fsim.head()"
      ],
      "id": "39fc279d",
      "execution_count": 4,
      "outputs": [
        {
          "output_type": "execute_result",
          "data": {
            "text/html": [
              "<div>\n",
              "<style scoped>\n",
              "    .dataframe tbody tr th:only-of-type {\n",
              "        vertical-align: middle;\n",
              "    }\n",
              "\n",
              "    .dataframe tbody tr th {\n",
              "        vertical-align: top;\n",
              "    }\n",
              "\n",
              "    .dataframe thead th {\n",
              "        text-align: right;\n",
              "    }\n",
              "</style>\n",
              "<table border=\"1\" class=\"dataframe\">\n",
              "  <thead>\n",
              "    <tr style=\"text-align: right;\">\n",
              "      <th></th>\n",
              "      <th>P1</th>\n",
              "      <th>P2</th>\n",
              "      <th>FSim</th>\n",
              "    </tr>\n",
              "  </thead>\n",
              "  <tbody>\n",
              "    <tr>\n",
              "      <th>0</th>\n",
              "      <td>6239.R11A8.4a</td>\n",
              "      <td>6239.AC3.3</td>\n",
              "      <td>0.521</td>\n",
              "    </tr>\n",
              "    <tr>\n",
              "      <th>1</th>\n",
              "      <td>6239.R11A8.4a</td>\n",
              "      <td>6239.B0025.1a</td>\n",
              "      <td>0.651</td>\n",
              "    </tr>\n",
              "    <tr>\n",
              "      <th>2</th>\n",
              "      <td>6239.R11A8.4a</td>\n",
              "      <td>6239.B0035.14a.2</td>\n",
              "      <td>0.467</td>\n",
              "    </tr>\n",
              "    <tr>\n",
              "      <th>3</th>\n",
              "      <td>6239.R11A8.4a</td>\n",
              "      <td>6239.B0041.7</td>\n",
              "      <td>0.461</td>\n",
              "    </tr>\n",
              "    <tr>\n",
              "      <th>4</th>\n",
              "      <td>6239.R11A8.4a</td>\n",
              "      <td>6239.B0205.7</td>\n",
              "      <td>0.703</td>\n",
              "    </tr>\n",
              "  </tbody>\n",
              "</table>\n",
              "</div>"
            ],
            "text/plain": [
              "              P1                P2   FSim\n",
              "0  6239.R11A8.4a        6239.AC3.3  0.521\n",
              "1  6239.R11A8.4a     6239.B0025.1a  0.651\n",
              "2  6239.R11A8.4a  6239.B0035.14a.2  0.467\n",
              "3  6239.R11A8.4a      6239.B0041.7  0.461\n",
              "4  6239.R11A8.4a      6239.B0205.7  0.703"
            ]
          },
          "metadata": {},
          "execution_count": 4
        }
      ]
    },
    {
      "cell_type": "code",
      "metadata": {
        "id": "2a9e8e3f"
      },
      "source": [
        "#merging the dataframes to obtain pairs of proteins scored by both metrics\n",
        "PPI_all_scores = pd.merge(PPI_IC, PPI_Fsim, on = ['P1', 'P2'])"
      ],
      "id": "2a9e8e3f",
      "execution_count": 5,
      "outputs": []
    },
    {
      "cell_type": "code",
      "metadata": {
        "colab": {
          "base_uri": "https://localhost:8080/",
          "height": 203
        },
        "id": "3701e57e",
        "outputId": "310563aa-a05a-4869-e7b1-646627002d4c"
      },
      "source": [
        "PPI_all_scores.head()"
      ],
      "id": "3701e57e",
      "execution_count": 6,
      "outputs": [
        {
          "output_type": "execute_result",
          "data": {
            "text/html": [
              "<div>\n",
              "<style scoped>\n",
              "    .dataframe tbody tr th:only-of-type {\n",
              "        vertical-align: middle;\n",
              "    }\n",
              "\n",
              "    .dataframe tbody tr th {\n",
              "        vertical-align: top;\n",
              "    }\n",
              "\n",
              "    .dataframe thead th {\n",
              "        text-align: right;\n",
              "    }\n",
              "</style>\n",
              "<table border=\"1\" class=\"dataframe\">\n",
              "  <thead>\n",
              "    <tr style=\"text-align: right;\">\n",
              "      <th></th>\n",
              "      <th>P1</th>\n",
              "      <th>P2</th>\n",
              "      <th>IC</th>\n",
              "      <th>FSim</th>\n",
              "    </tr>\n",
              "  </thead>\n",
              "  <tbody>\n",
              "    <tr>\n",
              "      <th>0</th>\n",
              "      <td>6239.R11A8.4a</td>\n",
              "      <td>6239.AC3.3</td>\n",
              "      <td>0.228</td>\n",
              "      <td>0.521</td>\n",
              "    </tr>\n",
              "    <tr>\n",
              "      <th>1</th>\n",
              "      <td>6239.R11A8.4a</td>\n",
              "      <td>6239.B0025.1a</td>\n",
              "      <td>0.222</td>\n",
              "      <td>0.651</td>\n",
              "    </tr>\n",
              "    <tr>\n",
              "      <th>2</th>\n",
              "      <td>6239.R11A8.4a</td>\n",
              "      <td>6239.B0035.14a.2</td>\n",
              "      <td>0.174</td>\n",
              "      <td>0.467</td>\n",
              "    </tr>\n",
              "    <tr>\n",
              "      <th>3</th>\n",
              "      <td>6239.R11A8.4a</td>\n",
              "      <td>6239.B0041.7</td>\n",
              "      <td>0.201</td>\n",
              "      <td>0.461</td>\n",
              "    </tr>\n",
              "    <tr>\n",
              "      <th>4</th>\n",
              "      <td>6239.R11A8.4a</td>\n",
              "      <td>6239.B0205.7</td>\n",
              "      <td>0.507</td>\n",
              "      <td>0.703</td>\n",
              "    </tr>\n",
              "  </tbody>\n",
              "</table>\n",
              "</div>"
            ],
            "text/plain": [
              "              P1                P2     IC   FSim\n",
              "0  6239.R11A8.4a        6239.AC3.3  0.228  0.521\n",
              "1  6239.R11A8.4a     6239.B0025.1a  0.222  0.651\n",
              "2  6239.R11A8.4a  6239.B0035.14a.2  0.174  0.467\n",
              "3  6239.R11A8.4a      6239.B0041.7  0.201  0.461\n",
              "4  6239.R11A8.4a      6239.B0205.7  0.507  0.703"
            ]
          },
          "metadata": {},
          "execution_count": 6
        }
      ]
    },
    {
      "cell_type": "code",
      "metadata": {
        "id": "58926d88"
      },
      "source": [
        "#aggregating scores by geometric mean, adding Aggregated score column\n",
        "PPI_all_scores['Aggregated score'] = round(np.sqrt(PPI_all_scores['IC']*PPI_all_scores['FSim']), 3)"
      ],
      "id": "58926d88",
      "execution_count": 7,
      "outputs": []
    },
    {
      "cell_type": "code",
      "metadata": {
        "colab": {
          "base_uri": "https://localhost:8080/",
          "height": 203
        },
        "id": "1b2de5c1",
        "outputId": "046b736e-36dd-4d57-9eb1-35b4b35430a8"
      },
      "source": [
        "PPI_all_scores.head()"
      ],
      "id": "1b2de5c1",
      "execution_count": 8,
      "outputs": [
        {
          "output_type": "execute_result",
          "data": {
            "text/html": [
              "<div>\n",
              "<style scoped>\n",
              "    .dataframe tbody tr th:only-of-type {\n",
              "        vertical-align: middle;\n",
              "    }\n",
              "\n",
              "    .dataframe tbody tr th {\n",
              "        vertical-align: top;\n",
              "    }\n",
              "\n",
              "    .dataframe thead th {\n",
              "        text-align: right;\n",
              "    }\n",
              "</style>\n",
              "<table border=\"1\" class=\"dataframe\">\n",
              "  <thead>\n",
              "    <tr style=\"text-align: right;\">\n",
              "      <th></th>\n",
              "      <th>P1</th>\n",
              "      <th>P2</th>\n",
              "      <th>IC</th>\n",
              "      <th>FSim</th>\n",
              "      <th>Aggregated score</th>\n",
              "    </tr>\n",
              "  </thead>\n",
              "  <tbody>\n",
              "    <tr>\n",
              "      <th>0</th>\n",
              "      <td>6239.R11A8.4a</td>\n",
              "      <td>6239.AC3.3</td>\n",
              "      <td>0.228</td>\n",
              "      <td>0.521</td>\n",
              "      <td>0.345</td>\n",
              "    </tr>\n",
              "    <tr>\n",
              "      <th>1</th>\n",
              "      <td>6239.R11A8.4a</td>\n",
              "      <td>6239.B0025.1a</td>\n",
              "      <td>0.222</td>\n",
              "      <td>0.651</td>\n",
              "      <td>0.380</td>\n",
              "    </tr>\n",
              "    <tr>\n",
              "      <th>2</th>\n",
              "      <td>6239.R11A8.4a</td>\n",
              "      <td>6239.B0035.14a.2</td>\n",
              "      <td>0.174</td>\n",
              "      <td>0.467</td>\n",
              "      <td>0.285</td>\n",
              "    </tr>\n",
              "    <tr>\n",
              "      <th>3</th>\n",
              "      <td>6239.R11A8.4a</td>\n",
              "      <td>6239.B0041.7</td>\n",
              "      <td>0.201</td>\n",
              "      <td>0.461</td>\n",
              "      <td>0.304</td>\n",
              "    </tr>\n",
              "    <tr>\n",
              "      <th>4</th>\n",
              "      <td>6239.R11A8.4a</td>\n",
              "      <td>6239.B0205.7</td>\n",
              "      <td>0.507</td>\n",
              "      <td>0.703</td>\n",
              "      <td>0.597</td>\n",
              "    </tr>\n",
              "  </tbody>\n",
              "</table>\n",
              "</div>"
            ],
            "text/plain": [
              "              P1                P2     IC   FSim  Aggregated score\n",
              "0  6239.R11A8.4a        6239.AC3.3  0.228  0.521             0.345\n",
              "1  6239.R11A8.4a     6239.B0025.1a  0.222  0.651             0.380\n",
              "2  6239.R11A8.4a  6239.B0035.14a.2  0.174  0.467             0.285\n",
              "3  6239.R11A8.4a      6239.B0041.7  0.201  0.461             0.304\n",
              "4  6239.R11A8.4a      6239.B0205.7  0.507  0.703             0.597"
            ]
          },
          "metadata": {},
          "execution_count": 8
        }
      ]
    },
    {
      "cell_type": "code",
      "metadata": {
        "id": "cd59e1df"
      },
      "source": [
        "#creating edgelist with aggregated score as weights\n",
        "PPI_all_scores[['P1', 'P2', 'Aggregated score']].to_csv('PPI_EXP_aggregated_scores.txt', index = False, header = False, sep = '\\t')"
      ],
      "id": "cd59e1df",
      "execution_count": 9,
      "outputs": []
    },
    {
      "cell_type": "code",
      "metadata": {
        "id": "f0ce74c2"
      },
      "source": [
        "#creating edgelist with the scaled IC score as weights\n",
        "PPI_all_scores[['P1', 'P2', 'IC']].to_csv('PPI_EXP_scaled_IC.txt', index = False, header = False, sep = '\\t')"
      ],
      "id": "f0ce74c2",
      "execution_count": 10,
      "outputs": []
    },
    {
      "cell_type": "code",
      "metadata": {
        "colab": {
          "base_uri": "https://localhost:8080/",
          "height": 142
        },
        "id": "2e2bed0f",
        "outputId": "90485c64-cedd-467c-df49-9a00e06369fa"
      },
      "source": [
        "#calculating Pearson correlation between all scores\n",
        "PPI_all_scores[['IC', 'FSim', 'Aggregated score']].corr(method ='pearson')"
      ],
      "id": "2e2bed0f",
      "execution_count": 11,
      "outputs": [
        {
          "output_type": "execute_result",
          "data": {
            "text/html": [
              "<div>\n",
              "<style scoped>\n",
              "    .dataframe tbody tr th:only-of-type {\n",
              "        vertical-align: middle;\n",
              "    }\n",
              "\n",
              "    .dataframe tbody tr th {\n",
              "        vertical-align: top;\n",
              "    }\n",
              "\n",
              "    .dataframe thead th {\n",
              "        text-align: right;\n",
              "    }\n",
              "</style>\n",
              "<table border=\"1\" class=\"dataframe\">\n",
              "  <thead>\n",
              "    <tr style=\"text-align: right;\">\n",
              "      <th></th>\n",
              "      <th>IC</th>\n",
              "      <th>FSim</th>\n",
              "      <th>Aggregated score</th>\n",
              "    </tr>\n",
              "  </thead>\n",
              "  <tbody>\n",
              "    <tr>\n",
              "      <th>IC</th>\n",
              "      <td>1.000000</td>\n",
              "      <td>0.137558</td>\n",
              "      <td>0.909758</td>\n",
              "    </tr>\n",
              "    <tr>\n",
              "      <th>FSim</th>\n",
              "      <td>0.137558</td>\n",
              "      <td>1.000000</td>\n",
              "      <td>0.508548</td>\n",
              "    </tr>\n",
              "    <tr>\n",
              "      <th>Aggregated score</th>\n",
              "      <td>0.909758</td>\n",
              "      <td>0.508548</td>\n",
              "      <td>1.000000</td>\n",
              "    </tr>\n",
              "  </tbody>\n",
              "</table>\n",
              "</div>"
            ],
            "text/plain": [
              "                        IC      FSim  Aggregated score\n",
              "IC                1.000000  0.137558          0.909758\n",
              "FSim              0.137558  1.000000          0.508548\n",
              "Aggregated score  0.909758  0.508548          1.000000"
            ]
          },
          "metadata": {},
          "execution_count": 11
        }
      ]
    },
    {
      "cell_type": "code",
      "metadata": {
        "colab": {
          "base_uri": "https://localhost:8080/",
          "height": 598
        },
        "id": "e886d2a0",
        "outputId": "d3f061a5-eeba-48d5-eeec-2e71638cd0bd"
      },
      "source": [
        "#correlation heatmap\n",
        "import seaborn as sns\n",
        "import matplotlib.pyplot as plt\n",
        "fig, ax = plt.subplots(figsize=(10, 10))\n",
        "sns.set(font_scale=1.5)\n",
        "ax = sns.heatmap(PPI_all_scores[['IC', 'FSim', 'Aggregated score']].corr(method ='pearson'), center = 0, vmin = -1, vmax = 1, annot = True)"
      ],
      "id": "e886d2a0",
      "execution_count": 12,
      "outputs": [
        {
          "output_type": "display_data",
          "data": {
            "image/png": "[encoded data removed]",
            "text/plain": [
              "<Figure size 720x720 with 2 Axes>"
            ]
          },
          "metadata": {
            "needs_background": "light"
          }
        }
      ]
    },
    {
      "cell_type": "code",
      "metadata": {
        "id": "94147690"
      },
      "source": [
        ""
      ],
      "id": "94147690",
      "execution_count": null,
      "outputs": []
    }
  ]
}