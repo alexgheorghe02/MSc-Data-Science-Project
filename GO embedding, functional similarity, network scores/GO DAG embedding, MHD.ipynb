{
  "nbformat": 4,
  "nbformat_minor": 5,
  "metadata": {
    "kernelspec": {
      "display_name": "Python 3",
      "language": "python",
      "name": "python3"
    },
    "language_info": {
      "codemirror_mode": {
        "name": "ipython",
        "version": 3
      },
      "file_extension": ".py",
      "mimetype": "text/x-python",
      "name": "python",
      "nbconvert_exporter": "python",
      "pygments_lexer": "ipython3",
      "version": "3.8.8"
    },
    "colab": {
      "name": "FSIM Exp.ipynb",
      "provenance": [],
      "collapsed_sections": []
    }
  },
  "cells": [
    {
      "cell_type": "code",
      "metadata": {
        "id": "2ca2e9b3"
      },
      "source": [
        "from node2vec import *\n",
        "import json\n",
        "import numpy as np\n",
        "import os \n",
        "import pandas as pd\n",
        "import scipy.spatial as sp\n",
        "os.environ['PYTHONHASHSEED']='123'"
      ],
      "id": "2ca2e9b3",
      "execution_count": null,
      "outputs": []
    },
    {
      "cell_type": "code",
      "metadata": {
        "id": "f9cfc63f",
        "outputId": "8b422856-4740-4761-9476-2ecef6674597"
      },
      "source": [
        "#embedding the GO DAG - performing the random walks\n",
        "graph = read_graph('P-edges.txt', weighted = False)\n",
        "random.seed(1)\n",
        "np.random.seed(1)\n",
        "G = Node2Vec(graph, p = 0.5, q = 2)\n",
        "G.preprocess_transition_probs()\n",
        "walks = G.simulate_walks(num_walks = 20, walk_length = 100)"
      ],
      "id": "f9cfc63f",
      "execution_count": null,
      "outputs": [
        {
          "name": "stderr",
          "output_type": "stream",
          "text": [
            "100%|█████████████████████████████████████████████████████████████████████████| 28642/28642 [00:01<00:00, 28434.06it/s]\n",
            "Walk 1/20: 100%|████████████████████████████████████████████████████████████████| 28642/28642 [00:34<00:00, 823.16it/s]\n",
            "Walk 2/20: 100%|███████████████████████████████████████████████████████████████| 28642/28642 [00:27<00:00, 1046.34it/s]\n",
            "Walk 3/20: 100%|████████████████████████████████████████████████████████████████| 28642/28642 [00:29<00:00, 957.07it/s]\n",
            "Walk 4/20: 100%|████████████████████████████████████████████████████████████████| 28642/28642 [00:31<00:00, 915.60it/s]\n",
            "Walk 5/20: 100%|████████████████████████████████████████████████████████████████| 28642/28642 [00:32<00:00, 880.14it/s]\n",
            "Walk 6/20: 100%|████████████████████████████████████████████████████████████████| 28642/28642 [00:31<00:00, 896.41it/s]\n",
            "Walk 7/20: 100%|████████████████████████████████████████████████████████████████| 28642/28642 [00:31<00:00, 915.70it/s]\n",
            "Walk 8/20: 100%|████████████████████████████████████████████████████████████████| 28642/28642 [00:31<00:00, 905.52it/s]\n",
            "Walk 9/20: 100%|████████████████████████████████████████████████████████████████| 28642/28642 [00:31<00:00, 904.35it/s]\n",
            "Walk 10/20: 100%|██████████████████████████████████████████████████████████████| 28642/28642 [00:28<00:00, 1011.64it/s]\n",
            "Walk 11/20: 100%|███████████████████████████████████████████████████████████████| 28642/28642 [00:41<00:00, 698.47it/s]\n",
            "Walk 12/20: 100%|███████████████████████████████████████████████████████████████| 28642/28642 [00:31<00:00, 920.68it/s]\n",
            "Walk 13/20: 100%|██████████████████████████████████████████████████████████████| 28642/28642 [00:28<00:00, 1007.69it/s]\n",
            "Walk 14/20: 100%|███████████████████████████████████████████████████████████████| 28642/28642 [00:35<00:00, 802.86it/s]\n",
            "Walk 15/20: 100%|███████████████████████████████████████████████████████████████| 28642/28642 [00:31<00:00, 903.92it/s]\n",
            "Walk 16/20: 100%|███████████████████████████████████████████████████████████████| 28642/28642 [00:30<00:00, 936.91it/s]\n",
            "Walk 17/20: 100%|███████████████████████████████████████████████████████████████| 28642/28642 [00:38<00:00, 743.62it/s]\n",
            "Walk 18/20: 100%|███████████████████████████████████████████████████████████████| 28642/28642 [00:30<00:00, 933.00it/s]\n",
            "Walk 19/20: 100%|██████████████████████████████████████████████████████████████| 28642/28642 [00:25<00:00, 1138.74it/s]\n",
            "Walk 20/20: 100%|███████████████████████████████████████████████████████████████| 28642/28642 [00:31<00:00, 896.98it/s]\n"
          ]
        }
      ]
    },
    {
      "cell_type": "code",
      "metadata": {
        "id": "7f37437d"
      },
      "source": [
        "#applying the Skip-gram model to extract the embeddings\n",
        "model = learn_embeddings(walks, 128, 10, 5, 'GO_embeddings.txt')"
      ],
      "id": "7f37437d",
      "execution_count": null,
      "outputs": []
    },
    {
      "cell_type": "code",
      "metadata": {
        "id": "15059f2d",
        "outputId": "03278ced-0f1a-44fb-addd-f9c13d7f738c"
      },
      "source": [
        "#manually probing the output - analysing the neighbours of an ageing-related GO term\n",
        "for node, _ in model.wv.most_similar('GO:0008340'):\n",
        "    print(node)"
      ],
      "id": "15059f2d",
      "execution_count": null,
      "outputs": [
        {
          "name": "stdout",
          "output_type": "stream",
          "text": [
            "GO:1901047\n",
            "GO:0010259\n",
            "GO:1990636\n",
            "GO:0032501\n",
            "GO:0008286\n",
            "GO:0042697\n",
            "GO:0038028\n",
            "GO:0032898\n",
            "GO:0007585\n",
            "GO:0036363\n"
          ]
        }
      ]
    },
    {
      "cell_type": "code",
      "metadata": {
        "id": "c4866d45"
      },
      "source": [
        "#re-loading the embeddings\n",
        "from gensim.models import KeyedVectors\n",
        "model = KeyedVectors.load_word2vec_format('GO_embeddings.txt', binary=False)"
      ],
      "id": "c4866d45",
      "execution_count": null,
      "outputs": []
    },
    {
      "cell_type": "code",
      "metadata": {
        "id": "c6de9f8e"
      },
      "source": [
        "#obtaining proteins/annotations lists from the annotations dictionary of STRING proteins previously obtained\n",
        "with open('prop_anno_STRING.txt') as f:\n",
        "    data = f.read()\n",
        "\n",
        "annos = json.loads(data)\n",
        "proteins = [key for key in annos.keys()]"
      ],
      "id": "c6de9f8e",
      "execution_count": null,
      "outputs": []
    },
    {
      "cell_type": "code",
      "metadata": {
        "id": "ac9aef4b"
      },
      "source": [
        "#loading the full C. elegans STRING PPI network, using the NetworkX based function implemented with node2vec\n",
        "PPI_full = read_graph('6239.protein.links.v11.0.txt', weighted = True)"
      ],
      "id": "ac9aef4b",
      "execution_count": null,
      "outputs": []
    },
    {
      "cell_type": "code",
      "metadata": {
        "id": "3a6798b9",
        "outputId": "05b91de5-3e84-4723-ad24-8594fb5100be"
      },
      "source": [
        "PPI_full.number_of_edges()"
      ],
      "id": "3a6798b9",
      "execution_count": null,
      "outputs": [
        {
          "data": {
            "text/plain": [
              "3709383"
            ]
          },
          "execution_count": 8,
          "metadata": {},
          "output_type": "execute_result"
        }
      ]
    },
    {
      "cell_type": "code",
      "metadata": {
        "id": "59c36484",
        "outputId": "282bb20c-3a27-418e-a95f-0eef36086228"
      },
      "source": [
        "PPI_full.number_of_nodes()"
      ],
      "id": "59c36484",
      "execution_count": null,
      "outputs": [
        {
          "data": {
            "text/plain": [
              "18181"
            ]
          },
          "execution_count": 9,
          "metadata": {},
          "output_type": "execute_result"
        }
      ]
    },
    {
      "cell_type": "code",
      "metadata": {
        "id": "781809c4"
      },
      "source": [
        "#obtaining the subgraph of BP annotated STRING proteins (PPI EXP subnetwork), writing it to file as an edgelist for further use\n",
        "PPI_annos = PPI_full.subgraph(proteins)\n",
        "nx.write_weighted_edgelist(PPI_annos, \"PPI_BP_edgelist_EXP.txt\")"
      ],
      "id": "781809c4",
      "execution_count": null,
      "outputs": []
    },
    {
      "cell_type": "code",
      "metadata": {
        "id": "46e0bced",
        "outputId": "26950b9d-c922-48da-b1d7-cfc001729da9"
      },
      "source": [
        "PPI_annos.number_of_edges()"
      ],
      "id": "46e0bced",
      "execution_count": null,
      "outputs": [
        {
          "data": {
            "text/plain": [
              "327779"
            ]
          },
          "execution_count": 11,
          "metadata": {},
          "output_type": "execute_result"
        }
      ]
    },
    {
      "cell_type": "code",
      "metadata": {
        "id": "a2356cb1",
        "outputId": "c3b1ebf8-7ac7-40af-e79b-767570d2c924"
      },
      "source": [
        "PPI_annos.number_of_nodes()"
      ],
      "id": "a2356cb1",
      "execution_count": null,
      "outputs": [
        {
          "data": {
            "text/plain": [
              "2975"
            ]
          },
          "execution_count": 12,
          "metadata": {},
          "output_type": "execute_result"
        }
      ]
    },
    {
      "cell_type": "code",
      "metadata": {
        "id": "8bb43d25"
      },
      "source": [
        "#defining function for MHD calculation for determining functional similarity\n",
        "def find_similarity(annotations, vectorial_embeddings, PPI_graph):\n",
        "    #replacing textual GO term annotations with matrices of embedding vector\n",
        "    dis = {}\n",
        "    for prot in annotations:\n",
        "        dis[prot] = []\n",
        "        for term in annos[prot]:\n",
        "            dis[prot].append(vectorial_embeddings[term])\n",
        "    #calculating functional similarities between pairs of nodes connected by an edge in the PPI\n",
        "    fsim = []\n",
        "    for edge in tqdm(list(PPI_graph.edges())):\n",
        "        A = dis[edge[0]]\n",
        "        B = dis[edge[1]]\n",
        "        cos_sim = 1 - sp.distance.cdist(A, B, 'cosine')\n",
        "        fhd = np.mean(np.max(cos_sim,axis=1))\n",
        "        rhd = np.mean(np.max(cos_sim,axis=0))\n",
        "        mhd = np.min(np.array([fhd, rhd]))\n",
        "        fsim.append([edge[0], edge[1], \"{0:.3f}\".format(mhd, 3)])\n",
        "    df = pd.DataFrame(fsim)\n",
        "    df.to_csv('FSim_PPI_EXP.txt', index = False, sep = '\\t', header = None)\n",
        "    return fsim"
      ],
      "id": "8bb43d25",
      "execution_count": null,
      "outputs": []
    },
    {
      "cell_type": "code",
      "metadata": {
        "id": "33829f39",
        "outputId": "1f23d89c-0004-43b3-93df-7aef1859439a"
      },
      "source": [
        "#determining the MHD-based functional similarity for all interaction pairs in the PPI EXP subnetwork (automatically saving the FSim-scored network to file)\n",
        "fsim = find_similarity(annos, model, PPI_annos)"
      ],
      "id": "33829f39",
      "execution_count": null,
      "outputs": [
        {
          "name": "stderr",
          "output_type": "stream",
          "text": [
            "100%|████████████████████████████████████████████████████████████████████████| 327779/327779 [03:07<00:00, 1747.68it/s]\n"
          ]
        }
      ]
    },
    {
      "cell_type": "code",
      "metadata": {
        "id": "df1c96fe",
        "outputId": "b9c54b9d-e0c5-4ecc-b8dc-489c408e44e9"
      },
      "source": [
        "#checking output\n",
        "print(fsim[0:100])"
      ],
      "id": "df1c96fe",
      "execution_count": null,
      "outputs": [
        {
          "name": "stdout",
          "output_type": "stream",
          "text": [
            "[['6239.R11A8.4a', '6239.AC3.3', '0.521'], ['6239.R11A8.4a', '6239.B0025.1a', '0.651'], ['6239.R11A8.4a', '6239.B0035.14a.2', '0.467'], ['6239.R11A8.4a', '6239.B0041.7', '0.461'], ['6239.R11A8.4a', '6239.B0205.7', '0.703'], ['6239.R11A8.4a', '6239.B0207.4', '0.734'], ['6239.R11A8.4a', '6239.B0218.3', '0.636'], ['6239.R11A8.4a', '6239.B0222.9', '0.521'], ['6239.R11A8.4a', '6239.B0228.5a', '0.377'], ['6239.R11A8.4a', '6239.B0261.2a', '0.635'], ['6239.R11A8.4a', '6239.B0286.5', '0.433'], ['6239.R11A8.4a', '6239.B0302.1a.2', '0.436'], ['6239.R11A8.4a', '6239.B0304.1b', '0.486'], ['6239.R11A8.4a', '6239.B0334.8', '0.615'], ['6239.R11A8.4a', '6239.B0336.8', '0.582'], ['6239.R11A8.4a', '6239.B0350.2f.2', '0.565'], ['6239.R11A8.4a', '6239.B0414.2', '0.604'], ['6239.R11A8.4a', '6239.B0432.5a', '0.625'], ['6239.R11A8.4a', '6239.B0478.1a', '0.687'], ['6239.R11A8.4a', '6239.C01B7.1c.1', '0.391'], ['6239.R11A8.4a', '6239.C01C7.1a', '0.494'], ['6239.R11A8.4a', '6239.C01G6.7', '0.471'], ['6239.R11A8.4a', '6239.C01H6.2', '0.393'], ['6239.R11A8.4a', '6239.C02A12.4', '0.448'], ['6239.R11A8.4a', '6239.C02C6.1b', '0.547'], ['6239.R11A8.4a', '6239.C02H7.3a', '0.525'], ['6239.R11A8.4a', '6239.C03A7.7', '0.557'], ['6239.R11A8.4a', '6239.C03A7.8', '0.557'], ['6239.R11A8.4a', '6239.C03B8.4', '0.396'], ['6239.R11A8.4a', '6239.C03D6.3a', '0.523'], ['6239.R11A8.4a', '6239.C03D6.5', '0.614'], ['6239.R11A8.4a', '6239.C04A2.3a', '0.608'], ['6239.R11A8.4a', '6239.C04F1.3', '0.471'], ['6239.R11A8.4a', '6239.C04F12.10.1', '0.554'], ['6239.R11A8.4a', '6239.C04F12.3', '0.445'], ['6239.R11A8.4a', '6239.C04G2.7', '0.549'], ['6239.R11A8.4a', '6239.C05B10.1', '0.534'], ['6239.R11A8.4a', '6239.C05D10.2a', '0.460'], ['6239.R11A8.4a', '6239.C05D11.11b.1', '0.444'], ['6239.R11A8.4a', '6239.C05D11.3', '0.458'], ['6239.R11A8.4a', '6239.C05D11.4', '0.568'], ['6239.R11A8.4a', '6239.C05D2.1a', '0.567'], ['6239.R11A8.4a', '6239.C05E4.9a', '0.377'], ['6239.R11A8.4a', '6239.C05H8.1b', '0.609'], ['6239.R11A8.4a', '6239.C06A1.1', '0.643'], ['6239.R11A8.4a', '6239.C06A5.11', '0.501'], ['6239.R11A8.4a', '6239.C07A12.1b', '0.461'], ['6239.R11A8.4a', '6239.C07G2.2c.1', '0.581'], ['6239.R11A8.4a', '6239.C07H6.1', '0.633'], ['6239.R11A8.4a', '6239.C07H6.7.1', '0.467'], ['6239.R11A8.4a', '6239.C08A9.1', '0.481'], ['6239.R11A8.4a', '6239.C08B11.2', '0.634'], ['6239.R11A8.4a', '6239.C08B6.7b', '0.428'], ['6239.R11A8.4a', '6239.C08B6.9', '0.687'], ['6239.R11A8.4a', '6239.C08C3.1b', '0.493'], ['6239.R11A8.4a', '6239.C09D1.1b', '0.546'], ['6239.R11A8.4a', '6239.C09G4.1.2', '0.354'], ['6239.R11A8.4a', '6239.C09G4.5', '0.753'], ['6239.R11A8.4a', '6239.C09H10.3', '0.631'], ['6239.R11A8.4a', '6239.C09H10.6', '0.447'], ['6239.R11A8.4a', '6239.C09H6.1a', '0.429'], ['6239.R11A8.4a', '6239.C10A4.8', '0.400'], ['6239.R11A8.4a', '6239.C10C5.6c', '0.503'], ['6239.R11A8.4a', '6239.C10C6.6', '0.475'], ['6239.R11A8.4a', '6239.C10E2.3a', '0.443'], ['6239.R11A8.4a', '6239.C10H11.9', '0.500'], ['6239.R11A8.4a', '6239.C11E4.1', '0.438'], ['6239.R11A8.4a', '6239.C12C8.1', '0.556'], ['6239.R11A8.4a', '6239.C12C8.3a.1', '0.574'], ['6239.R11A8.4a', '6239.C12D8.10b', '0.806'], ['6239.R11A8.4a', '6239.C14A4.4a', '0.562'], ['6239.R11A8.4a', '6239.C14B1.4', '0.791'], ['6239.R11A8.4a', '6239.C14B9.4b', '0.680'], ['6239.R11A8.4a', '6239.C14F5.5', '0.528'], ['6239.R11A8.4a', '6239.C15F1.7a', '0.569'], ['6239.R11A8.4a', '6239.C15H9.6.1', '0.521'], ['6239.R11A8.4a', '6239.C16A11.1b', '0.482'], ['6239.R11A8.4a', '6239.C16C10.6', '0.495'], ['6239.R11A8.4a', '6239.C17G10.4b.2', '0.698'], ['6239.R11A8.4a', '6239.C18A3.8', '0.537'], ['6239.R11A8.4a', '6239.C24B5.2c', '0.561'], ['6239.R11A8.4a', '6239.C24F3.4a', '0.573'], ['6239.R11A8.4a', '6239.C25A1.11a', '0.510'], ['6239.R11A8.4a', '6239.C25B8.1b', '0.503'], ['6239.R11A8.4a', '6239.C25G4.5', '0.497'], ['6239.R11A8.4a', '6239.C26C6.1a', '0.413'], ['6239.R11A8.4a', '6239.C26C6.2', '0.535'], ['6239.R11A8.4a', '6239.C26D10.1', '0.474'], ['6239.R11A8.4a', '6239.C26E6.8', '0.418'], ['6239.R11A8.4a', '6239.C26E6.9c', '0.783'], ['6239.R11A8.4a', '6239.C27A12.2', '0.458'], ['6239.R11A8.4a', '6239.C27A2.1', '0.572'], ['6239.R11A8.4a', '6239.C27A2.6', '0.564'], ['6239.R11A8.4a', '6239.C27B7.1b', '0.362'], ['6239.R11A8.4a', '6239.C27C12.2', '0.435'], ['6239.R11A8.4a', '6239.C29F3.7a', '0.434'], ['6239.R11A8.4a', '6239.C30C11.4.1', '0.475'], ['6239.R11A8.4a', '6239.C30G7.1', '0.443'], ['6239.R11A8.4a', '6239.C32A3.1a', '0.488'], ['6239.R11A8.4a', '6239.C32D5.5', '0.377']]\n"
          ]
        }
      ]
    }
  ]
}