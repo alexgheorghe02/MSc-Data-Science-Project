{
  "nbformat": 4,
  "nbformat_minor": 0,
  "metadata": {
    "colab": {
      "name": "Annos.ipynb",
      "provenance": [],
      "collapsed_sections": []
    },
    "kernelspec": {
      "name": "python3",
      "display_name": "Python 3"
    },
    "language_info": {
      "name": "python"
    }
  },
  "cells": [
    {
      "cell_type": "code",
      "metadata": {
        "colab": {
          "base_uri": "https://localhost:8080/"
        },
        "id": "r7i9KGt41mKL",
        "outputId": "d03b0a21-21bd-46b5-a376-492ff2329ad3"
      },
      "source": [
        "!pip install goatools"
      ],
      "execution_count": null,
      "outputs": [
        {
          "output_type": "stream",
          "text": [
            "Collecting goatools\n",
            "  Downloading goatools-1.1.6.tar.gz (15.1 MB)\n",
            "\u001b[K     |████████████████████████████████| 15.1 MB 154 kB/s \n",
            "\u001b[?25hRequirement already satisfied: pandas in /usr/local/lib/python3.7/dist-packages (from goatools) (1.1.5)\n",
            "Requirement already satisfied: numpy in /usr/local/lib/python3.7/dist-packages (from goatools) (1.19.5)\n",
            "Requirement already satisfied: scipy in /usr/local/lib/python3.7/dist-packages (from goatools) (1.4.1)\n",
            "Collecting xlsxwriter\n",
            "  Downloading XlsxWriter-1.4.4-py2.py3-none-any.whl (149 kB)\n",
            "\u001b[K     |████████████████████████████████| 149 kB 48.6 MB/s \n",
            "\u001b[?25hRequirement already satisfied: statsmodels in /usr/local/lib/python3.7/dist-packages (from goatools) (0.10.2)\n",
            "Collecting xlrd==1.2.0\n",
            "  Downloading xlrd-1.2.0-py2.py3-none-any.whl (103 kB)\n",
            "\u001b[K     |████████████████████████████████| 103 kB 58.4 MB/s \n",
            "\u001b[?25hRequirement already satisfied: docopt in /usr/local/lib/python3.7/dist-packages (from goatools) (0.6.2)\n",
            "Requirement already satisfied: pydot in /usr/local/lib/python3.7/dist-packages (from goatools) (1.3.0)\n",
            "Requirement already satisfied: requests in /usr/local/lib/python3.7/dist-packages (from goatools) (2.23.0)\n",
            "Collecting wget\n",
            "  Downloading wget-3.2.zip (10 kB)\n",
            "Requirement already satisfied: python-dateutil>=2.7.3 in /usr/local/lib/python3.7/dist-packages (from pandas->goatools) (2.8.1)\n",
            "Requirement already satisfied: pytz>=2017.2 in /usr/local/lib/python3.7/dist-packages (from pandas->goatools) (2018.9)\n",
            "Requirement already satisfied: six>=1.5 in /usr/local/lib/python3.7/dist-packages (from python-dateutil>=2.7.3->pandas->goatools) (1.15.0)\n",
            "Requirement already satisfied: pyparsing>=2.1.4 in /usr/local/lib/python3.7/dist-packages (from pydot->goatools) (2.4.7)\n",
            "Requirement already satisfied: chardet<4,>=3.0.2 in /usr/local/lib/python3.7/dist-packages (from requests->goatools) (3.0.4)\n",
            "Requirement already satisfied: idna<3,>=2.5 in /usr/local/lib/python3.7/dist-packages (from requests->goatools) (2.10)\n",
            "Requirement already satisfied: urllib3!=1.25.0,!=1.25.1,<1.26,>=1.21.1 in /usr/local/lib/python3.7/dist-packages (from requests->goatools) (1.24.3)\n",
            "Requirement already satisfied: certifi>=2017.4.17 in /usr/local/lib/python3.7/dist-packages (from requests->goatools) (2021.5.30)\n",
            "Requirement already satisfied: patsy>=0.4.0 in /usr/local/lib/python3.7/dist-packages (from statsmodels->goatools) (0.5.1)\n",
            "Building wheels for collected packages: goatools, wget\n",
            "  Building wheel for goatools (setup.py) ... \u001b[?25l\u001b[?25hdone\n",
            "  Created wheel for goatools: filename=goatools-1.1.6-py3-none-any.whl size=15762836 sha256=8adda7482e7efc0daed4859faea9656d9dec53f9abeed109745060da66ee9b11\n",
            "  Stored in directory: /root/.cache/pip/wheels/ed/a7/4b/2e9ce970761985d8c6c6caab01fd0fa79fbc576942e11ad5e4\n",
            "  Building wheel for wget (setup.py) ... \u001b[?25l\u001b[?25hdone\n",
            "  Created wheel for wget: filename=wget-3.2-py3-none-any.whl size=9673 sha256=105e188385657364f7237416a9abbf921b381ad8cf8ebf5895ad25b14e52fd03\n",
            "  Stored in directory: /root/.cache/pip/wheels/a1/b6/7c/0e63e34eb06634181c63adacca38b79ff8f35c37e3c13e3c02\n",
            "Successfully built goatools wget\n",
            "Installing collected packages: xlsxwriter, xlrd, wget, goatools\n",
            "  Attempting uninstall: xlrd\n",
            "    Found existing installation: xlrd 1.1.0\n",
            "    Uninstalling xlrd-1.1.0:\n",
            "      Successfully uninstalled xlrd-1.1.0\n",
            "Successfully installed goatools-1.1.6 wget-3.2 xlrd-1.2.0 xlsxwriter-1.4.4\n"
          ],
          "name": "stdout"
        }
      ]
    },
    {
      "cell_type": "code",
      "metadata": {
        "id": "0nZEx80iR-kr"
      },
      "source": [
        "import pandas as pd\n",
        "import numpy as np\n",
        "import goatools\n",
        "from goatools import obo_parser\n",
        "import wget\n",
        "import os\n",
        "import json"
      ],
      "execution_count": null,
      "outputs": []
    },
    {
      "cell_type": "code",
      "metadata": {
        "id": "Nb8KBp4QR1cj"
      },
      "source": [
        "#loading the GenAge ageing genes dataset\n",
        "genage_df = pd.read_csv('genage_models_export.tsv', delimiter = '\\t', dtype={'Entrez Gene ID': object})"
      ],
      "execution_count": null,
      "outputs": []
    },
    {
      "cell_type": "code",
      "metadata": {
        "id": "y9Rz62CXXZ5c"
      },
      "source": [
        "#only retaining columns of interest\n",
        "genage_df = genage_df.filter(['Gene ID', 'Entrez Gene ID', 'Gene Symbol', 'Ensembl ID', 'Longevity Influence'])"
      ],
      "execution_count": null,
      "outputs": []
    },
    {
      "cell_type": "code",
      "metadata": {
        "id": "i9NMQkE3mFjd"
      },
      "source": [
        "#filtering out entries with missing/corrupted longevity labels\n",
        "genage_df = genage_df[genage_df['Longevity Influence'].isin(['pro', 'anti']) == True]"
      ],
      "execution_count": null,
      "outputs": []
    },
    {
      "cell_type": "code",
      "metadata": {
        "id": "2TRauKcFmbWi"
      },
      "source": [
        "#dropping duplicate entries by all columns, keeping first entry\n",
        "genage_df.drop_duplicates(keep = 'first', inplace = True)"
      ],
      "execution_count": null,
      "outputs": []
    },
    {
      "cell_type": "code",
      "metadata": {
        "id": "xwz1sq2-ot5I"
      },
      "source": [
        "#selecting duplicate entries by Gene Symbol\n",
        "slice_dups = genage_df[genage_df.duplicated(['Gene Symbol'], keep=False)]"
      ],
      "execution_count": null,
      "outputs": []
    },
    {
      "cell_type": "code",
      "metadata": {
        "colab": {
          "base_uri": "https://localhost:8080/",
          "height": 981
        },
        "id": "eImpVPcDtxbQ",
        "outputId": "7cc7d63d-1b95-4e75-807d-3d2f2bc9713d"
      },
      "source": [
        "slice_dups.head(30)"
      ],
      "execution_count": null,
      "outputs": [
        {
          "output_type": "execute_result",
          "data": {
            "text/html": [
              "<div>\n",
              "<style scoped>\n",
              "    .dataframe tbody tr th:only-of-type {\n",
              "        vertical-align: middle;\n",
              "    }\n",
              "\n",
              "    .dataframe tbody tr th {\n",
              "        vertical-align: top;\n",
              "    }\n",
              "\n",
              "    .dataframe thead th {\n",
              "        text-align: right;\n",
              "    }\n",
              "</style>\n",
              "<table border=\"1\" class=\"dataframe\">\n",
              "  <thead>\n",
              "    <tr style=\"text-align: right;\">\n",
              "      <th></th>\n",
              "      <th>Gene ID</th>\n",
              "      <th>Entrez Gene ID</th>\n",
              "      <th>Gene Symbol</th>\n",
              "      <th>Ensembl ID</th>\n",
              "      <th>Longevity Influence</th>\n",
              "    </tr>\n",
              "  </thead>\n",
              "  <tbody>\n",
              "    <tr>\n",
              "      <th>61</th>\n",
              "      <td>893</td>\n",
              "      <td>179246</td>\n",
              "      <td>atg-18</td>\n",
              "      <td>F41E6.13</td>\n",
              "      <td>pro</td>\n",
              "    </tr>\n",
              "    <tr>\n",
              "      <th>62</th>\n",
              "      <td>893</td>\n",
              "      <td>179246</td>\n",
              "      <td>atg-18</td>\n",
              "      <td>F41E6.13</td>\n",
              "      <td>anti</td>\n",
              "    </tr>\n",
              "    <tr>\n",
              "      <th>67</th>\n",
              "      <td>23</td>\n",
              "      <td>178005</td>\n",
              "      <td>atg-7</td>\n",
              "      <td>M7.5</td>\n",
              "      <td>pro</td>\n",
              "    </tr>\n",
              "    <tr>\n",
              "      <th>68</th>\n",
              "      <td>23</td>\n",
              "      <td>178005</td>\n",
              "      <td>atg-7</td>\n",
              "      <td>M7.5</td>\n",
              "      <td>anti</td>\n",
              "    </tr>\n",
              "    <tr>\n",
              "      <th>330</th>\n",
              "      <td>917</td>\n",
              "      <td>3564920</td>\n",
              "      <td>eak-7</td>\n",
              "      <td>K08E7.1</td>\n",
              "      <td>anti</td>\n",
              "    </tr>\n",
              "    <tr>\n",
              "      <th>331</th>\n",
              "      <td>917</td>\n",
              "      <td>3564920</td>\n",
              "      <td>eak-7</td>\n",
              "      <td>K08E7.1</td>\n",
              "      <td>pro</td>\n",
              "    </tr>\n",
              "    <tr>\n",
              "      <th>333</th>\n",
              "      <td>203</td>\n",
              "      <td>13183021</td>\n",
              "      <td>eat-18</td>\n",
              "      <td>NaN</td>\n",
              "      <td>anti</td>\n",
              "    </tr>\n",
              "    <tr>\n",
              "      <th>334</th>\n",
              "      <td>2066</td>\n",
              "      <td>24105308</td>\n",
              "      <td>eat-18</td>\n",
              "      <td>NaN</td>\n",
              "      <td>anti</td>\n",
              "    </tr>\n",
              "    <tr>\n",
              "      <th>339</th>\n",
              "      <td>210</td>\n",
              "      <td>172743</td>\n",
              "      <td>eef-2</td>\n",
              "      <td>F25H5.4</td>\n",
              "      <td>pro</td>\n",
              "    </tr>\n",
              "    <tr>\n",
              "      <th>340</th>\n",
              "      <td>210</td>\n",
              "      <td>172743</td>\n",
              "      <td>eef-2</td>\n",
              "      <td>F25H5.4</td>\n",
              "      <td>anti</td>\n",
              "    </tr>\n",
              "    <tr>\n",
              "      <th>425</th>\n",
              "      <td>287</td>\n",
              "      <td>174002</td>\n",
              "      <td>frh-1</td>\n",
              "      <td>F59G1.7</td>\n",
              "      <td>anti</td>\n",
              "    </tr>\n",
              "    <tr>\n",
              "      <th>426</th>\n",
              "      <td>287</td>\n",
              "      <td>174002</td>\n",
              "      <td>frh-1</td>\n",
              "      <td>F59G1.7</td>\n",
              "      <td>pro</td>\n",
              "    </tr>\n",
              "    <tr>\n",
              "      <th>473</th>\n",
              "      <td>1937</td>\n",
              "      <td>180359</td>\n",
              "      <td>hif-1</td>\n",
              "      <td>NaN</td>\n",
              "      <td>pro</td>\n",
              "    </tr>\n",
              "    <tr>\n",
              "      <th>474</th>\n",
              "      <td>1937</td>\n",
              "      <td>180359</td>\n",
              "      <td>hif-1</td>\n",
              "      <td>NaN</td>\n",
              "      <td>anti</td>\n",
              "    </tr>\n",
              "    <tr>\n",
              "      <th>522</th>\n",
              "      <td>367</td>\n",
              "      <td>175966</td>\n",
              "      <td>inf-1</td>\n",
              "      <td>F57B9.6</td>\n",
              "      <td>anti</td>\n",
              "    </tr>\n",
              "    <tr>\n",
              "      <th>523</th>\n",
              "      <td>367</td>\n",
              "      <td>175966</td>\n",
              "      <td>inf-1</td>\n",
              "      <td>F57B9.6</td>\n",
              "      <td>pro</td>\n",
              "    </tr>\n",
              "    <tr>\n",
              "      <th>559</th>\n",
              "      <td>402</td>\n",
              "      <td>172390</td>\n",
              "      <td>lbp-6</td>\n",
              "      <td>W02D3.5</td>\n",
              "      <td>pro</td>\n",
              "    </tr>\n",
              "    <tr>\n",
              "      <th>560</th>\n",
              "      <td>402</td>\n",
              "      <td>172390</td>\n",
              "      <td>lbp-6</td>\n",
              "      <td>W02D3.5</td>\n",
              "      <td>anti</td>\n",
              "    </tr>\n",
              "    <tr>\n",
              "      <th>581</th>\n",
              "      <td>410</td>\n",
              "      <td>181400</td>\n",
              "      <td>lin-2</td>\n",
              "      <td>F17E5.1</td>\n",
              "      <td>anti</td>\n",
              "    </tr>\n",
              "    <tr>\n",
              "      <th>582</th>\n",
              "      <td>410</td>\n",
              "      <td>181400</td>\n",
              "      <td>lin-2</td>\n",
              "      <td>F17E5.1</td>\n",
              "      <td>pro</td>\n",
              "    </tr>\n",
              "    <tr>\n",
              "      <th>612</th>\n",
              "      <td>426</td>\n",
              "      <td>174841</td>\n",
              "      <td>mcm-2</td>\n",
              "      <td>Y17G7B.5</td>\n",
              "      <td>anti</td>\n",
              "    </tr>\n",
              "    <tr>\n",
              "      <th>613</th>\n",
              "      <td>426</td>\n",
              "      <td>174841</td>\n",
              "      <td>mcm-2</td>\n",
              "      <td>Y17G7B.5</td>\n",
              "      <td>pro</td>\n",
              "    </tr>\n",
              "    <tr>\n",
              "      <th>633</th>\n",
              "      <td>2168</td>\n",
              "      <td>3564977</td>\n",
              "      <td>mir-238</td>\n",
              "      <td>NaN</td>\n",
              "      <td>anti</td>\n",
              "    </tr>\n",
              "    <tr>\n",
              "      <th>634</th>\n",
              "      <td>2169</td>\n",
              "      <td>3565806</td>\n",
              "      <td>mir-238</td>\n",
              "      <td>NaN</td>\n",
              "      <td>pro</td>\n",
              "    </tr>\n",
              "    <tr>\n",
              "      <th>785</th>\n",
              "      <td>976</td>\n",
              "      <td>177985</td>\n",
              "      <td>rbr-2</td>\n",
              "      <td>ZK593.4</td>\n",
              "      <td>pro</td>\n",
              "    </tr>\n",
              "    <tr>\n",
              "      <th>786</th>\n",
              "      <td>976</td>\n",
              "      <td>177985</td>\n",
              "      <td>rbr-2</td>\n",
              "      <td>ZK593.4</td>\n",
              "      <td>anti</td>\n",
              "    </tr>\n",
              "    <tr>\n",
              "      <th>903</th>\n",
              "      <td>985</td>\n",
              "      <td>172632</td>\n",
              "      <td>sod-2</td>\n",
              "      <td>F10D11.1</td>\n",
              "      <td>pro</td>\n",
              "    </tr>\n",
              "    <tr>\n",
              "      <th>904</th>\n",
              "      <td>985</td>\n",
              "      <td>172632</td>\n",
              "      <td>sod-2</td>\n",
              "      <td>F10D11.1</td>\n",
              "      <td>anti</td>\n",
              "    </tr>\n",
              "    <tr>\n",
              "      <th>999</th>\n",
              "      <td>996</td>\n",
              "      <td>180311</td>\n",
              "      <td>unc-51</td>\n",
              "      <td>Y60A3A.1</td>\n",
              "      <td>pro</td>\n",
              "    </tr>\n",
              "    <tr>\n",
              "      <th>1000</th>\n",
              "      <td>996</td>\n",
              "      <td>180311</td>\n",
              "      <td>unc-51</td>\n",
              "      <td>Y60A3A.1</td>\n",
              "      <td>anti</td>\n",
              "    </tr>\n",
              "  </tbody>\n",
              "</table>\n",
              "</div>"
            ],
            "text/plain": [
              "      Gene ID Entrez Gene ID Gene Symbol Ensembl ID Longevity Influence\n",
              "61        893         179246      atg-18   F41E6.13                 pro\n",
              "62        893         179246      atg-18   F41E6.13                anti\n",
              "67         23         178005       atg-7       M7.5                 pro\n",
              "68         23         178005       atg-7       M7.5                anti\n",
              "330       917        3564920       eak-7    K08E7.1                anti\n",
              "331       917        3564920       eak-7    K08E7.1                 pro\n",
              "333       203       13183021      eat-18        NaN                anti\n",
              "334      2066       24105308      eat-18        NaN                anti\n",
              "339       210         172743       eef-2    F25H5.4                 pro\n",
              "340       210         172743       eef-2    F25H5.4                anti\n",
              "425       287         174002       frh-1    F59G1.7                anti\n",
              "426       287         174002       frh-1    F59G1.7                 pro\n",
              "473      1937         180359       hif-1        NaN                 pro\n",
              "474      1937         180359       hif-1        NaN                anti\n",
              "522       367         175966       inf-1    F57B9.6                anti\n",
              "523       367         175966       inf-1    F57B9.6                 pro\n",
              "559       402         172390       lbp-6    W02D3.5                 pro\n",
              "560       402         172390       lbp-6    W02D3.5                anti\n",
              "581       410         181400       lin-2    F17E5.1                anti\n",
              "582       410         181400       lin-2    F17E5.1                 pro\n",
              "612       426         174841       mcm-2   Y17G7B.5                anti\n",
              "613       426         174841       mcm-2   Y17G7B.5                 pro\n",
              "633      2168        3564977     mir-238        NaN                anti\n",
              "634      2169        3565806     mir-238        NaN                 pro\n",
              "785       976         177985       rbr-2    ZK593.4                 pro\n",
              "786       976         177985       rbr-2    ZK593.4                anti\n",
              "903       985         172632       sod-2   F10D11.1                 pro\n",
              "904       985         172632       sod-2   F10D11.1                anti\n",
              "999       996         180311      unc-51   Y60A3A.1                 pro\n",
              "1000      996         180311      unc-51   Y60A3A.1                anti"
            ]
          },
          "metadata": {
            "tags": []
          },
          "execution_count": 8
        }
      ]
    },
    {
      "cell_type": "code",
      "metadata": {
        "id": "M2gggaHNysCT"
      },
      "source": [
        "#excluding eat-18 as the Entrez IDs are different so manual review is needed to decide which one to keep\n",
        "slice_dups = slice_dups[slice_dups['Gene Symbol'] != 'eat-18']"
      ],
      "execution_count": null,
      "outputs": []
    },
    {
      "cell_type": "code",
      "metadata": {
        "id": "xFbRqTYUyWE-"
      },
      "source": [
        "#dropping duplicates by Gene Symbol, keeping first record in a duplicate pair\n",
        "genage_df = genage_df[~genage_df['Gene Symbol'].isin(slice_dups['Gene Symbol'])]"
      ],
      "execution_count": null,
      "outputs": []
    },
    {
      "cell_type": "code",
      "metadata": {
        "id": "LpwESAMp1i2W"
      },
      "source": [
        "#removing one entry for eat-18 that links to a hypothetical protein\n",
        "genage_df = genage_df[genage_df['Entrez Gene ID'] != '24105308']"
      ],
      "execution_count": null,
      "outputs": []
    },
    {
      "cell_type": "code",
      "metadata": {
        "id": "dP-o6DLE_X32"
      },
      "source": [
        "#dropping duplicates by Entrez Gene ID, also removing genes with no Entrez Gene ID\n",
        "genage_df = genage_df.drop_duplicates(subset = ['Entrez Gene ID'], keep = 'first')\n",
        "genage_df = genage_df.dropna(subset = ['Entrez Gene ID'])"
      ],
      "execution_count": null,
      "outputs": []
    },
    {
      "cell_type": "code",
      "metadata": {
        "colab": {
          "base_uri": "https://localhost:8080/"
        },
        "id": "fg2wdxuIzRTe",
        "outputId": "e79b8ff7-600e-47b5-fb78-b8c281dc2a0b"
      },
      "source": [
        "#record retained after initial clean-up\n",
        "genage_df.shape"
      ],
      "execution_count": null,
      "outputs": [
        {
          "output_type": "execute_result",
          "data": {
            "text/plain": [
              "(855, 5)"
            ]
          },
          "metadata": {
            "tags": []
          },
          "execution_count": 13
        }
      ]
    },
    {
      "cell_type": "code",
      "metadata": {
        "id": "wqAEv7C6cRF_"
      },
      "source": [
        "#obtaining an Entrez Gene IDs list to pass to BioMart\n",
        "genage_df['Entrez Gene ID'].to_csv('genes.txt', sep = '\\t', na_rep = 'N/A', index = False)"
      ],
      "execution_count": null,
      "outputs": []
    },
    {
      "cell_type": "code",
      "metadata": {
        "id": "H8BKPbmY_OK2"
      },
      "source": [
        "#loading the QuickGO BP annotations dataset (biological process annotations with experimental and high-throughput evidence codes)\n",
        "q = pd.read_csv('/content/QuickGO-annotations-EXPHT.tsv', delimiter = '\\t', comment = '!')"
      ],
      "execution_count": null,
      "outputs": []
    },
    {
      "cell_type": "code",
      "metadata": {
        "id": "EF3xZFCvi9br"
      },
      "source": [
        "#loading the STRING protein aliases mapping file for C. elegans\n",
        "string_map = pd.read_csv('/content/celegans.uniprot_2_string.2018.tsv', delimiter = '\\t', header = None)"
      ],
      "execution_count": null,
      "outputs": []
    },
    {
      "cell_type": "code",
      "metadata": {
        "id": "Ei_OlUjijD9b"
      },
      "source": [
        "#loading the Entrez to Uniprot mapping obtained via BioMart\n",
        "j = pd.read_csv('/content/mart_export - UniProt.txt', delimiter = '\\t', dtype={'NCBI gene (formerly Entrezgene) ID': object})"
      ],
      "execution_count": null,
      "outputs": []
    },
    {
      "cell_type": "code",
      "metadata": {
        "id": "-onzIp7xC198"
      },
      "source": [
        "#from the Entrez to Uniprot mapping, dropping duplicate entries (same Entrez Gene ID, same Swiss-Prot ID)\n",
        "j = j.drop_duplicates(subset = ['NCBI gene (formerly Entrezgene) ID', 'UniProtKB/Swiss-Prot ID'], keep='first')"
      ],
      "execution_count": null,
      "outputs": []
    },
    {
      "cell_type": "code",
      "metadata": {
        "id": "mGAFO376DXrY"
      },
      "source": [
        "#in the Entrez to Uniprot mapping, where an Entrez ID is not associated with a SwissProt code, use the TrEMBL code\n",
        "j['UniProtKB/Swiss-Prot ID'] = j['UniProtKB/Swiss-Prot ID'].fillna(j['UniProtKB/TrEMBL ID'])"
      ],
      "execution_count": null,
      "outputs": []
    },
    {
      "cell_type": "code",
      "metadata": {
        "id": "eYUNz3zyFLLS"
      },
      "source": [
        "#retaining the columns of interest in the STRING mapping file and renaming columns in preparation for merging\n",
        "string_map.drop([0, 2, 4, 5], axis=1, inplace = True)\n",
        "string_map.rename(columns = {1:'UniProtKB/Swiss-Prot ID', 3: 'STRING ID'}, inplace = True)"
      ],
      "execution_count": null,
      "outputs": []
    },
    {
      "cell_type": "code",
      "metadata": {
        "id": "ixjt5yko_vBH"
      },
      "source": [
        "#merging Entrez IDs/Uniprot IDs in the Biomart output with STRING IDs, to obtain STRING IDs of the ageing gene products\n",
        "j_string = pd.merge(j, string_map, on = 'UniProtKB/Swiss-Prot ID')"
      ],
      "execution_count": null,
      "outputs": []
    },
    {
      "cell_type": "code",
      "metadata": {
        "id": "XTukiwLIffjL"
      },
      "source": [
        "#dropping ageing genes that do not have an alias STRING ID, as they won't be present in the STRING PPI\n",
        "j_string.dropna(subset = ['STRING ID'], inplace = True)"
      ],
      "execution_count": null,
      "outputs": []
    },
    {
      "cell_type": "code",
      "metadata": {
        "id": "FI5yanr3fyK6"
      },
      "source": [
        "#a new dataset, only retaining the ageing gene products with BP annotations\n",
        "bp_j = j_string[j_string['UniProtKB/Swiss-Prot ID'].isin(q['GENE PRODUCT ID'])]"
      ],
      "execution_count": null,
      "outputs": []
    },
    {
      "cell_type": "code",
      "metadata": {
        "colab": {
          "base_uri": "https://localhost:8080/"
        },
        "id": "4AoiBpAVJgvL",
        "outputId": "c2583188-3c7d-4e58-da12-e4b8bdbc8f21"
      },
      "source": [
        "#removing the TrEMBL ID column as it is redundant\n",
        "bp_j.drop(['UniProtKB/TrEMBL ID'], axis = 1, inplace = True)"
      ],
      "execution_count": null,
      "outputs": [
        {
          "output_type": "stream",
          "text": [
            "/usr/local/lib/python3.7/dist-packages/pandas/core/frame.py:4174: SettingWithCopyWarning: \n",
            "A value is trying to be set on a copy of a slice from a DataFrame\n",
            "\n",
            "See the caveats in the documentation: https://pandas.pydata.org/pandas-docs/stable/user_guide/indexing.html#returning-a-view-versus-a-copy\n",
            "  errors=errors,\n"
          ],
          "name": "stderr"
        }
      ]
    },
    {
      "cell_type": "code",
      "metadata": {
        "colab": {
          "base_uri": "https://localhost:8080/"
        },
        "id": "_-iq0UuwRDqa",
        "outputId": "36a74a1a-5c2f-45cf-ffab-46485724b426"
      },
      "source": [
        "#renaming the columns in the dataset of BP-annotated ageing gene codes in preparation for merging\n",
        "bp_j.rename(columns = {'NCBI gene (formerly Entrezgene) ID':'Entrez Gene ID'}, inplace = True)"
      ],
      "execution_count": null,
      "outputs": [
        {
          "output_type": "stream",
          "text": [
            "/usr/local/lib/python3.7/dist-packages/pandas/core/frame.py:4308: SettingWithCopyWarning: \n",
            "A value is trying to be set on a copy of a slice from a DataFrame\n",
            "\n",
            "See the caveats in the documentation: https://pandas.pydata.org/pandas-docs/stable/user_guide/indexing.html#returning-a-view-versus-a-copy\n",
            "  errors=errors,\n"
          ],
          "name": "stderr"
        }
      ]
    },
    {
      "cell_type": "code",
      "metadata": {
        "id": "PRplhekeQt0o"
      },
      "source": [
        "genage_df_bp = genage_df[genage_df['Entrez Gene ID'].isin(bp_j['Entrez Gene ID'])]"
      ],
      "execution_count": null,
      "outputs": []
    },
    {
      "cell_type": "code",
      "metadata": {
        "id": "ZbYzxIifRlEu"
      },
      "source": [
        "#merging the clean GenAge dataset with the dataset of BP-annotated ageing gene codes - the final dataset is the clean GenAge dataset, with associated UniProt and STRING ID codes for gene products\n",
        "genage_uniprot = pd.merge(bp_j, genage_df_bp, on='Entrez Gene ID')"
      ],
      "execution_count": null,
      "outputs": []
    },
    {
      "cell_type": "code",
      "metadata": {
        "colab": {
          "base_uri": "https://localhost:8080/"
        },
        "id": "XVtBbgl7hBah",
        "outputId": "13776107-e0d5-4d61-d4e2-ef14123807a1"
      },
      "source": [
        "#number of GenAge records retained (i.e. with gene products that are BP-annotated, identified by both UniProt IDs and STRING IDs)\n",
        "genage_uniprot.shape"
      ],
      "execution_count": null,
      "outputs": [
        {
          "output_type": "execute_result",
          "data": {
            "text/plain": [
              "(388, 7)"
            ]
          },
          "metadata": {
            "tags": []
          },
          "execution_count": 28
        }
      ]
    },
    {
      "cell_type": "code",
      "metadata": {
        "colab": {
          "base_uri": "https://localhost:8080/"
        },
        "id": "69ZUvo93TB7J",
        "outputId": "23b0ba5b-ffac-4230-9281-de3b87f44eec"
      },
      "source": [
        "genage_uniprot['Longevity Influence'].value_counts()"
      ],
      "execution_count": null,
      "outputs": [
        {
          "output_type": "execute_result",
          "data": {
            "text/plain": [
              "anti    233\n",
              "pro     155\n",
              "Name: Longevity Influence, dtype: int64"
            ]
          },
          "metadata": {
            "tags": []
          },
          "execution_count": 29
        }
      ]
    },
    {
      "cell_type": "code",
      "metadata": {
        "id": "UhS48aB3T_-f"
      },
      "source": [
        "genage_uniprot.to_csv('genage_full.txt', index = False, sep = '\\t')"
      ],
      "execution_count": null,
      "outputs": []
    },
    {
      "cell_type": "code",
      "metadata": {
        "id": "ffM7Ai9abGS_"
      },
      "source": [
        "#for the QuickGO set of all C. elegans protein with BP, EXP and HTP-evidence annotations, map the STRING IDs using the STRING alias mapping file\n",
        "string_map_2 = string_map.rename(columns = {'UniProtKB/Swiss-Prot ID': 'GENE PRODUCT ID'})\n",
        "uniprot_to_string = pd.merge(q, string_map_2, on = 'GENE PRODUCT ID')"
      ],
      "execution_count": null,
      "outputs": []
    },
    {
      "cell_type": "code",
      "metadata": {
        "colab": {
          "base_uri": "https://localhost:8080/"
        },
        "id": "Q9FgvHJzctTS",
        "outputId": "45efd2c8-f537-4ae8-a552-a70c9322506d"
      },
      "source": [
        "#number of annotated proteins mapped to STRING IDs\n",
        "uniprot_to_string['GENE PRODUCT ID'].nunique()"
      ],
      "execution_count": null,
      "outputs": [
        {
          "output_type": "execute_result",
          "data": {
            "text/plain": [
              "2980"
            ]
          },
          "metadata": {
            "tags": []
          },
          "execution_count": 32
        }
      ]
    },
    {
      "cell_type": "code",
      "metadata": {
        "colab": {
          "base_uri": "https://localhost:8080/",
          "height": 1000
        },
        "id": "rGn_tnrJyk59",
        "outputId": "aaebcb85-7bba-44e1-8379-667a5825d2e8"
      },
      "source": [
        "uniprot_to_string.head(20)"
      ],
      "execution_count": null,
      "outputs": [
        {
          "output_type": "execute_result",
          "data": {
            "text/html": [
              "<div>\n",
              "<style scoped>\n",
              "    .dataframe tbody tr th:only-of-type {\n",
              "        vertical-align: middle;\n",
              "    }\n",
              "\n",
              "    .dataframe tbody tr th {\n",
              "        vertical-align: top;\n",
              "    }\n",
              "\n",
              "    .dataframe thead th {\n",
              "        text-align: right;\n",
              "    }\n",
              "</style>\n",
              "<table border=\"1\" class=\"dataframe\">\n",
              "  <thead>\n",
              "    <tr style=\"text-align: right;\">\n",
              "      <th></th>\n",
              "      <th>GENE PRODUCT DB</th>\n",
              "      <th>GENE PRODUCT ID</th>\n",
              "      <th>SYMBOL</th>\n",
              "      <th>QUALIFIER</th>\n",
              "      <th>GO TERM</th>\n",
              "      <th>GO NAME</th>\n",
              "      <th>ECO ID</th>\n",
              "      <th>GO EVIDENCE CODE</th>\n",
              "      <th>REFERENCE</th>\n",
              "      <th>WITH/FROM</th>\n",
              "      <th>TAXON ID</th>\n",
              "      <th>ASSIGNED BY</th>\n",
              "      <th>ANNOTATION EXTENSION</th>\n",
              "      <th>GO ASPECT</th>\n",
              "      <th>STRING ID</th>\n",
              "    </tr>\n",
              "  </thead>\n",
              "  <tbody>\n",
              "    <tr>\n",
              "      <th>0</th>\n",
              "      <td>UniProtKB</td>\n",
              "      <td>A0A0K3AR81</td>\n",
              "      <td>CELE_K06A5.1</td>\n",
              "      <td>involved_in</td>\n",
              "      <td>GO:0140543</td>\n",
              "      <td>positive regulation of piRNA transcription</td>\n",
              "      <td>ECO:0000315</td>\n",
              "      <td>IMP</td>\n",
              "      <td>PMID:34187893</td>\n",
              "      <td>NaN</td>\n",
              "      <td>6239</td>\n",
              "      <td>WB</td>\n",
              "      <td>NaN</td>\n",
              "      <td>P</td>\n",
              "      <td>6239.K06A5.1.2</td>\n",
              "    </tr>\n",
              "    <tr>\n",
              "      <th>1</th>\n",
              "      <td>UniProtKB</td>\n",
              "      <td>A0A0K3AR90</td>\n",
              "      <td>tom-1</td>\n",
              "      <td>involved_in</td>\n",
              "      <td>GO:0010807</td>\n",
              "      <td>regulation of synaptic vesicle priming</td>\n",
              "      <td>ECO:0001225</td>\n",
              "      <td>IMP</td>\n",
              "      <td>PMID:16895441</td>\n",
              "      <td>NaN</td>\n",
              "      <td>6239</td>\n",
              "      <td>SynGO</td>\n",
              "      <td>occurs_in(GO:0031594)</td>\n",
              "      <td>P</td>\n",
              "      <td>6239.M01A10.2c</td>\n",
              "    </tr>\n",
              "    <tr>\n",
              "      <th>2</th>\n",
              "      <td>UniProtKB</td>\n",
              "      <td>A0A0K3AR90</td>\n",
              "      <td>tom-1</td>\n",
              "      <td>involved_in</td>\n",
              "      <td>GO:0010807</td>\n",
              "      <td>regulation of synaptic vesicle priming</td>\n",
              "      <td>ECO:0001225</td>\n",
              "      <td>IMP</td>\n",
              "      <td>PMID:16880125</td>\n",
              "      <td>NaN</td>\n",
              "      <td>6239</td>\n",
              "      <td>SynGO</td>\n",
              "      <td>NaN</td>\n",
              "      <td>P</td>\n",
              "      <td>6239.M01A10.2c</td>\n",
              "    </tr>\n",
              "    <tr>\n",
              "      <th>3</th>\n",
              "      <td>UniProtKB</td>\n",
              "      <td>A0A0K3AR90</td>\n",
              "      <td>tom-1</td>\n",
              "      <td>involved_in</td>\n",
              "      <td>GO:0010807</td>\n",
              "      <td>regulation of synaptic vesicle priming</td>\n",
              "      <td>ECO:0001225</td>\n",
              "      <td>IMP</td>\n",
              "      <td>PMID:16880125</td>\n",
              "      <td>NaN</td>\n",
              "      <td>6239</td>\n",
              "      <td>SynGO</td>\n",
              "      <td>occurs_in(GO:0031594)</td>\n",
              "      <td>P</td>\n",
              "      <td>6239.M01A10.2c</td>\n",
              "    </tr>\n",
              "    <tr>\n",
              "      <th>4</th>\n",
              "      <td>UniProtKB</td>\n",
              "      <td>A0A0K3AR90</td>\n",
              "      <td>tom-1</td>\n",
              "      <td>involved_in</td>\n",
              "      <td>GO:0010807</td>\n",
              "      <td>regulation of synaptic vesicle priming</td>\n",
              "      <td>ECO:0006003</td>\n",
              "      <td>IDA</td>\n",
              "      <td>PMID:16880125</td>\n",
              "      <td>NaN</td>\n",
              "      <td>6239</td>\n",
              "      <td>SynGO</td>\n",
              "      <td>NaN</td>\n",
              "      <td>P</td>\n",
              "      <td>6239.M01A10.2c</td>\n",
              "    </tr>\n",
              "    <tr>\n",
              "      <th>5</th>\n",
              "      <td>UniProtKB</td>\n",
              "      <td>A0A0K3AR90</td>\n",
              "      <td>tom-1</td>\n",
              "      <td>involved_in</td>\n",
              "      <td>GO:0010807</td>\n",
              "      <td>regulation of synaptic vesicle priming</td>\n",
              "      <td>ECO:0006013</td>\n",
              "      <td>IDA</td>\n",
              "      <td>PMID:16895441</td>\n",
              "      <td>NaN</td>\n",
              "      <td>6239</td>\n",
              "      <td>SynGO</td>\n",
              "      <td>occurs_in(GO:0031594)</td>\n",
              "      <td>P</td>\n",
              "      <td>6239.M01A10.2c</td>\n",
              "    </tr>\n",
              "    <tr>\n",
              "      <th>6</th>\n",
              "      <td>UniProtKB</td>\n",
              "      <td>A0A0K3AR90</td>\n",
              "      <td>tom-1</td>\n",
              "      <td>involved_in</td>\n",
              "      <td>GO:0010807</td>\n",
              "      <td>regulation of synaptic vesicle priming</td>\n",
              "      <td>ECO:0006013</td>\n",
              "      <td>IDA</td>\n",
              "      <td>PMID:16880125</td>\n",
              "      <td>NaN</td>\n",
              "      <td>6239</td>\n",
              "      <td>SynGO</td>\n",
              "      <td>NaN</td>\n",
              "      <td>P</td>\n",
              "      <td>6239.M01A10.2c</td>\n",
              "    </tr>\n",
              "    <tr>\n",
              "      <th>7</th>\n",
              "      <td>UniProtKB</td>\n",
              "      <td>A0A0K3AR90</td>\n",
              "      <td>tom-1</td>\n",
              "      <td>involved_in</td>\n",
              "      <td>GO:0010807</td>\n",
              "      <td>regulation of synaptic vesicle priming</td>\n",
              "      <td>ECO:0006013</td>\n",
              "      <td>IDA</td>\n",
              "      <td>PMID:16880125</td>\n",
              "      <td>NaN</td>\n",
              "      <td>6239</td>\n",
              "      <td>SynGO</td>\n",
              "      <td>occurs_in(GO:0031594)</td>\n",
              "      <td>P</td>\n",
              "      <td>6239.M01A10.2c</td>\n",
              "    </tr>\n",
              "    <tr>\n",
              "      <th>8</th>\n",
              "      <td>UniProtKB</td>\n",
              "      <td>A0A0K3AR90</td>\n",
              "      <td>tom-1</td>\n",
              "      <td>involved_in</td>\n",
              "      <td>GO:0010807</td>\n",
              "      <td>regulation of synaptic vesicle priming</td>\n",
              "      <td>ECO:0006063</td>\n",
              "      <td>IMP</td>\n",
              "      <td>PMID:16880125</td>\n",
              "      <td>NaN</td>\n",
              "      <td>6239</td>\n",
              "      <td>SynGO</td>\n",
              "      <td>NaN</td>\n",
              "      <td>P</td>\n",
              "      <td>6239.M01A10.2c</td>\n",
              "    </tr>\n",
              "    <tr>\n",
              "      <th>9</th>\n",
              "      <td>UniProtKB</td>\n",
              "      <td>A0A0K3AR90</td>\n",
              "      <td>tom-1</td>\n",
              "      <td>involved_in</td>\n",
              "      <td>GO:0010807</td>\n",
              "      <td>regulation of synaptic vesicle priming</td>\n",
              "      <td>ECO:0006064</td>\n",
              "      <td>IDA</td>\n",
              "      <td>PMID:16880125</td>\n",
              "      <td>NaN</td>\n",
              "      <td>6239</td>\n",
              "      <td>SynGO</td>\n",
              "      <td>NaN</td>\n",
              "      <td>P</td>\n",
              "      <td>6239.M01A10.2c</td>\n",
              "    </tr>\n",
              "    <tr>\n",
              "      <th>10</th>\n",
              "      <td>UniProtKB</td>\n",
              "      <td>A0A0K3AR90</td>\n",
              "      <td>tom-1</td>\n",
              "      <td>involved_in</td>\n",
              "      <td>GO:0099161</td>\n",
              "      <td>regulation of presynaptic dense core granule e...</td>\n",
              "      <td>ECO:0001225</td>\n",
              "      <td>IMP</td>\n",
              "      <td>PMID:17881523</td>\n",
              "      <td>NaN</td>\n",
              "      <td>6239</td>\n",
              "      <td>SynGO</td>\n",
              "      <td>occurs_in(GO:0098981)</td>\n",
              "      <td>P</td>\n",
              "      <td>6239.M01A10.2c</td>\n",
              "    </tr>\n",
              "    <tr>\n",
              "      <th>11</th>\n",
              "      <td>UniProtKB</td>\n",
              "      <td>A0A0K3AR90</td>\n",
              "      <td>tom-1</td>\n",
              "      <td>involved_in</td>\n",
              "      <td>GO:0099161</td>\n",
              "      <td>regulation of presynaptic dense core granule e...</td>\n",
              "      <td>ECO:0001232</td>\n",
              "      <td>IDA</td>\n",
              "      <td>PMID:17881523</td>\n",
              "      <td>NaN</td>\n",
              "      <td>6239</td>\n",
              "      <td>SynGO</td>\n",
              "      <td>occurs_in(GO:0098981)</td>\n",
              "      <td>P</td>\n",
              "      <td>6239.M01A10.2c</td>\n",
              "    </tr>\n",
              "    <tr>\n",
              "      <th>12</th>\n",
              "      <td>UniProtKB</td>\n",
              "      <td>A0A0K3AR90</td>\n",
              "      <td>tom-1</td>\n",
              "      <td>involved_in</td>\n",
              "      <td>GO:0099161</td>\n",
              "      <td>regulation of presynaptic dense core granule e...</td>\n",
              "      <td>ECO:0006003</td>\n",
              "      <td>IDA</td>\n",
              "      <td>PMID:17881523</td>\n",
              "      <td>NaN</td>\n",
              "      <td>6239</td>\n",
              "      <td>SynGO</td>\n",
              "      <td>occurs_in(GO:0098981)</td>\n",
              "      <td>P</td>\n",
              "      <td>6239.M01A10.2c</td>\n",
              "    </tr>\n",
              "    <tr>\n",
              "      <th>13</th>\n",
              "      <td>UniProtKB</td>\n",
              "      <td>A0A0K3AR90</td>\n",
              "      <td>tom-1</td>\n",
              "      <td>involved_in</td>\n",
              "      <td>GO:0099148</td>\n",
              "      <td>regulation of synaptic vesicle docking</td>\n",
              "      <td>ECO:0001225</td>\n",
              "      <td>IMP</td>\n",
              "      <td>PMID:16895441</td>\n",
              "      <td>NaN</td>\n",
              "      <td>6239</td>\n",
              "      <td>SynGO</td>\n",
              "      <td>occurs_in(GO:0098982)</td>\n",
              "      <td>P</td>\n",
              "      <td>6239.M01A10.2c</td>\n",
              "    </tr>\n",
              "    <tr>\n",
              "      <th>14</th>\n",
              "      <td>UniProtKB</td>\n",
              "      <td>A0A0K3AR90</td>\n",
              "      <td>tom-1</td>\n",
              "      <td>involved_in</td>\n",
              "      <td>GO:0099148</td>\n",
              "      <td>regulation of synaptic vesicle docking</td>\n",
              "      <td>ECO:0001225</td>\n",
              "      <td>IMP</td>\n",
              "      <td>PMID:16895441</td>\n",
              "      <td>NaN</td>\n",
              "      <td>6239</td>\n",
              "      <td>SynGO</td>\n",
              "      <td>occurs_in(GO:0031594)</td>\n",
              "      <td>P</td>\n",
              "      <td>6239.M01A10.2c</td>\n",
              "    </tr>\n",
              "    <tr>\n",
              "      <th>15</th>\n",
              "      <td>UniProtKB</td>\n",
              "      <td>A0A0K3AR90</td>\n",
              "      <td>tom-1</td>\n",
              "      <td>involved_in</td>\n",
              "      <td>GO:0099148</td>\n",
              "      <td>regulation of synaptic vesicle docking</td>\n",
              "      <td>ECO:0006003</td>\n",
              "      <td>IDA</td>\n",
              "      <td>PMID:16895441</td>\n",
              "      <td>NaN</td>\n",
              "      <td>6239</td>\n",
              "      <td>SynGO</td>\n",
              "      <td>occurs_in(GO:0098982)</td>\n",
              "      <td>P</td>\n",
              "      <td>6239.M01A10.2c</td>\n",
              "    </tr>\n",
              "    <tr>\n",
              "      <th>16</th>\n",
              "      <td>UniProtKB</td>\n",
              "      <td>A0A0K3AR90</td>\n",
              "      <td>tom-1</td>\n",
              "      <td>involved_in</td>\n",
              "      <td>GO:0099148</td>\n",
              "      <td>regulation of synaptic vesicle docking</td>\n",
              "      <td>ECO:0006003</td>\n",
              "      <td>IDA</td>\n",
              "      <td>PMID:16895441</td>\n",
              "      <td>NaN</td>\n",
              "      <td>6239</td>\n",
              "      <td>SynGO</td>\n",
              "      <td>occurs_in(GO:0031594)</td>\n",
              "      <td>P</td>\n",
              "      <td>6239.M01A10.2c</td>\n",
              "    </tr>\n",
              "    <tr>\n",
              "      <th>17</th>\n",
              "      <td>UniProtKB</td>\n",
              "      <td>A0A0K3AUE4</td>\n",
              "      <td>sea-2</td>\n",
              "      <td>involved_in</td>\n",
              "      <td>GO:0008340</td>\n",
              "      <td>determination of adult lifespan</td>\n",
              "      <td>ECO:0000315</td>\n",
              "      <td>IMP</td>\n",
              "      <td>PMID:21471153</td>\n",
              "      <td>NaN</td>\n",
              "      <td>6239</td>\n",
              "      <td>WB</td>\n",
              "      <td>NaN</td>\n",
              "      <td>P</td>\n",
              "      <td>6239.K10G6.3a</td>\n",
              "    </tr>\n",
              "    <tr>\n",
              "      <th>18</th>\n",
              "      <td>UniProtKB</td>\n",
              "      <td>A0A0K3AUE4</td>\n",
              "      <td>sea-2</td>\n",
              "      <td>involved_in</td>\n",
              "      <td>GO:0007549</td>\n",
              "      <td>dosage compensation</td>\n",
              "      <td>ECO:0000316</td>\n",
              "      <td>IGI</td>\n",
              "      <td>PMID:21471153</td>\n",
              "      <td>WB:WBGene00001484|WB:WBGene00004786</td>\n",
              "      <td>6239</td>\n",
              "      <td>WB</td>\n",
              "      <td>NaN</td>\n",
              "      <td>P</td>\n",
              "      <td>6239.K10G6.3a</td>\n",
              "    </tr>\n",
              "    <tr>\n",
              "      <th>19</th>\n",
              "      <td>UniProtKB</td>\n",
              "      <td>A0A0K3AUE4</td>\n",
              "      <td>sea-2</td>\n",
              "      <td>involved_in</td>\n",
              "      <td>GO:0010629</td>\n",
              "      <td>negative regulation of gene expression</td>\n",
              "      <td>ECO:0000315</td>\n",
              "      <td>IMP</td>\n",
              "      <td>PMID:21471153</td>\n",
              "      <td>NaN</td>\n",
              "      <td>6239</td>\n",
              "      <td>WB</td>\n",
              "      <td>NaN</td>\n",
              "      <td>P</td>\n",
              "      <td>6239.K10G6.3a</td>\n",
              "    </tr>\n",
              "  </tbody>\n",
              "</table>\n",
              "</div>"
            ],
            "text/plain": [
              "   GENE PRODUCT DB GENE PRODUCT ID  ... GO ASPECT       STRING ID\n",
              "0        UniProtKB      A0A0K3AR81  ...         P  6239.K06A5.1.2\n",
              "1        UniProtKB      A0A0K3AR90  ...         P  6239.M01A10.2c\n",
              "2        UniProtKB      A0A0K3AR90  ...         P  6239.M01A10.2c\n",
              "3        UniProtKB      A0A0K3AR90  ...         P  6239.M01A10.2c\n",
              "4        UniProtKB      A0A0K3AR90  ...         P  6239.M01A10.2c\n",
              "5        UniProtKB      A0A0K3AR90  ...         P  6239.M01A10.2c\n",
              "6        UniProtKB      A0A0K3AR90  ...         P  6239.M01A10.2c\n",
              "7        UniProtKB      A0A0K3AR90  ...         P  6239.M01A10.2c\n",
              "8        UniProtKB      A0A0K3AR90  ...         P  6239.M01A10.2c\n",
              "9        UniProtKB      A0A0K3AR90  ...         P  6239.M01A10.2c\n",
              "10       UniProtKB      A0A0K3AR90  ...         P  6239.M01A10.2c\n",
              "11       UniProtKB      A0A0K3AR90  ...         P  6239.M01A10.2c\n",
              "12       UniProtKB      A0A0K3AR90  ...         P  6239.M01A10.2c\n",
              "13       UniProtKB      A0A0K3AR90  ...         P  6239.M01A10.2c\n",
              "14       UniProtKB      A0A0K3AR90  ...         P  6239.M01A10.2c\n",
              "15       UniProtKB      A0A0K3AR90  ...         P  6239.M01A10.2c\n",
              "16       UniProtKB      A0A0K3AR90  ...         P  6239.M01A10.2c\n",
              "17       UniProtKB      A0A0K3AUE4  ...         P   6239.K10G6.3a\n",
              "18       UniProtKB      A0A0K3AUE4  ...         P   6239.K10G6.3a\n",
              "19       UniProtKB      A0A0K3AUE4  ...         P   6239.K10G6.3a\n",
              "\n",
              "[20 rows x 15 columns]"
            ]
          },
          "metadata": {
            "tags": []
          },
          "execution_count": 33
        }
      ]
    },
    {
      "cell_type": "code",
      "metadata": {
        "colab": {
          "base_uri": "https://localhost:8080/"
        },
        "id": "wiCdogEYyOPL",
        "outputId": "57c64ff0-8da0-4f23-e8cf-7d30bff9b93b"
      },
      "source": [
        "#dropping duplicate records by UniProt ID and GO term pairs, keeping first; dropping columns we are not interested in;\n",
        "final_annos_BP = uniprot_to_string.drop_duplicates(subset = ['GENE PRODUCT ID', 'GO TERM'], keep = 'first')\n",
        "final_annos_BP.drop(['GENE PRODUCT DB', 'QUALIFIER', 'GO NAME', 'ECO ID', 'GO EVIDENCE CODE', 'REFERENCE', 'WITH/FROM', 'TAXON ID', 'ASSIGNED BY', 'ANNOTATION EXTENSION', 'GO ASPECT'], axis=1, inplace = True)"
      ],
      "execution_count": null,
      "outputs": [
        {
          "output_type": "stream",
          "text": [
            "/usr/local/lib/python3.7/dist-packages/pandas/core/frame.py:4174: SettingWithCopyWarning: \n",
            "A value is trying to be set on a copy of a slice from a DataFrame\n",
            "\n",
            "See the caveats in the documentation: https://pandas.pydata.org/pandas-docs/stable/user_guide/indexing.html#returning-a-view-versus-a-copy\n",
            "  errors=errors,\n"
          ],
          "name": "stderr"
        }
      ]
    },
    {
      "cell_type": "code",
      "metadata": {
        "id": "Chb3ZN7qds0-"
      },
      "source": [
        "#creating a checkpoint annotations file\n",
        "final_annos_BP.to_csv('quickgo_annos_BP.txt', sep = '\\t', index = False)"
      ],
      "execution_count": null,
      "outputs": []
    },
    {
      "cell_type": "code",
      "metadata": {
        "colab": {
          "base_uri": "https://localhost:8080/",
          "height": 204
        },
        "id": "se2NMHEB3Wki",
        "outputId": "b0ff06a9-d6a6-4af1-af61-c4ebe06627dc"
      },
      "source": [
        "final_annos_BP.head()"
      ],
      "execution_count": null,
      "outputs": [
        {
          "output_type": "execute_result",
          "data": {
            "text/html": [
              "<div>\n",
              "<style scoped>\n",
              "    .dataframe tbody tr th:only-of-type {\n",
              "        vertical-align: middle;\n",
              "    }\n",
              "\n",
              "    .dataframe tbody tr th {\n",
              "        vertical-align: top;\n",
              "    }\n",
              "\n",
              "    .dataframe thead th {\n",
              "        text-align: right;\n",
              "    }\n",
              "</style>\n",
              "<table border=\"1\" class=\"dataframe\">\n",
              "  <thead>\n",
              "    <tr style=\"text-align: right;\">\n",
              "      <th></th>\n",
              "      <th>GENE PRODUCT ID</th>\n",
              "      <th>SYMBOL</th>\n",
              "      <th>GO TERM</th>\n",
              "      <th>STRING ID</th>\n",
              "    </tr>\n",
              "  </thead>\n",
              "  <tbody>\n",
              "    <tr>\n",
              "      <th>0</th>\n",
              "      <td>A0A0K3AR81</td>\n",
              "      <td>CELE_K06A5.1</td>\n",
              "      <td>GO:0140543</td>\n",
              "      <td>6239.K06A5.1.2</td>\n",
              "    </tr>\n",
              "    <tr>\n",
              "      <th>1</th>\n",
              "      <td>A0A0K3AR90</td>\n",
              "      <td>tom-1</td>\n",
              "      <td>GO:0010807</td>\n",
              "      <td>6239.M01A10.2c</td>\n",
              "    </tr>\n",
              "    <tr>\n",
              "      <th>10</th>\n",
              "      <td>A0A0K3AR90</td>\n",
              "      <td>tom-1</td>\n",
              "      <td>GO:0099161</td>\n",
              "      <td>6239.M01A10.2c</td>\n",
              "    </tr>\n",
              "    <tr>\n",
              "      <th>13</th>\n",
              "      <td>A0A0K3AR90</td>\n",
              "      <td>tom-1</td>\n",
              "      <td>GO:0099148</td>\n",
              "      <td>6239.M01A10.2c</td>\n",
              "    </tr>\n",
              "    <tr>\n",
              "      <th>17</th>\n",
              "      <td>A0A0K3AUE4</td>\n",
              "      <td>sea-2</td>\n",
              "      <td>GO:0008340</td>\n",
              "      <td>6239.K10G6.3a</td>\n",
              "    </tr>\n",
              "  </tbody>\n",
              "</table>\n",
              "</div>"
            ],
            "text/plain": [
              "   GENE PRODUCT ID        SYMBOL     GO TERM       STRING ID\n",
              "0       A0A0K3AR81  CELE_K06A5.1  GO:0140543  6239.K06A5.1.2\n",
              "1       A0A0K3AR90         tom-1  GO:0010807  6239.M01A10.2c\n",
              "10      A0A0K3AR90         tom-1  GO:0099161  6239.M01A10.2c\n",
              "13      A0A0K3AR90         tom-1  GO:0099148  6239.M01A10.2c\n",
              "17      A0A0K3AUE4         sea-2  GO:0008340   6239.K10G6.3a"
            ]
          },
          "metadata": {
            "tags": []
          },
          "execution_count": 36
        }
      ]
    },
    {
      "cell_type": "code",
      "metadata": {
        "colab": {
          "base_uri": "https://localhost:8080/"
        },
        "id": "DnAd4Xc-1D9Y",
        "outputId": "54d1d42d-717b-4df7-e652-387a6f82cc73"
      },
      "source": [
        "go = obo_parser.GODag('go-basic.obo')"
      ],
      "execution_count": null,
      "outputs": [
        {
          "output_type": "stream",
          "text": [
            "go-basic.obo: fmt(1.2) rel(2021-05-01) 47,284 GO Terms\n"
          ],
          "name": "stdout"
        }
      ]
    },
    {
      "cell_type": "code",
      "metadata": {
        "id": "GhtTtJSMhTtB"
      },
      "source": [
        "#propagating annotations, creating checkpoint file\n",
        "propagation = {}\n",
        "for term in final_annos_BP['GO TERM'].tolist():\n",
        "  original = []\n",
        "  original.append(term)\n",
        "  rec = go[term]\n",
        "  parents = list(rec.get_all_parents())\n",
        "  propagation[term] = original+parents\n",
        "\n",
        "with open('term_propagation.txt', 'w') as fp:\n",
        "    fp.write(json.dumps(propagation))\n",
        "\n"
      ],
      "execution_count": null,
      "outputs": []
    },
    {
      "cell_type": "code",
      "metadata": {
        "colab": {
          "base_uri": "https://localhost:8080/"
        },
        "id": "rpeaxHNj3uAO",
        "outputId": "1599b245-77ba-4238-8731-bd78bd54d42b"
      },
      "source": [
        "#mapping each original QuickGO annotation term to all ancestors obtained by propagation to root\n",
        "final_annos_BP['Prop'] = final_annos_BP['GO TERM'].map(propagation)"
      ],
      "execution_count": null,
      "outputs": [
        {
          "output_type": "stream",
          "text": [
            "/usr/local/lib/python3.7/dist-packages/ipykernel_launcher.py:1: SettingWithCopyWarning: \n",
            "A value is trying to be set on a copy of a slice from a DataFrame.\n",
            "Try using .loc[row_indexer,col_indexer] = value instead\n",
            "\n",
            "See the caveats in the documentation: https://pandas.pydata.org/pandas-docs/stable/user_guide/indexing.html#returning-a-view-versus-a-copy\n",
            "  \"\"\"Entry point for launching an IPython kernel.\n"
          ],
          "name": "stderr"
        }
      ]
    },
    {
      "cell_type": "code",
      "metadata": {
        "colab": {
          "base_uri": "https://localhost:8080/",
          "height": 204
        },
        "id": "_daoS9su44H_",
        "outputId": "3cabd6c4-b1e4-4bd9-ff7d-09ca96d10e7e"
      },
      "source": [
        "final_annos_BP.head()"
      ],
      "execution_count": null,
      "outputs": [
        {
          "output_type": "execute_result",
          "data": {
            "text/html": [
              "<div>\n",
              "<style scoped>\n",
              "    .dataframe tbody tr th:only-of-type {\n",
              "        vertical-align: middle;\n",
              "    }\n",
              "\n",
              "    .dataframe tbody tr th {\n",
              "        vertical-align: top;\n",
              "    }\n",
              "\n",
              "    .dataframe thead th {\n",
              "        text-align: right;\n",
              "    }\n",
              "</style>\n",
              "<table border=\"1\" class=\"dataframe\">\n",
              "  <thead>\n",
              "    <tr style=\"text-align: right;\">\n",
              "      <th></th>\n",
              "      <th>GENE PRODUCT ID</th>\n",
              "      <th>SYMBOL</th>\n",
              "      <th>GO TERM</th>\n",
              "      <th>STRING ID</th>\n",
              "      <th>Prop</th>\n",
              "    </tr>\n",
              "  </thead>\n",
              "  <tbody>\n",
              "    <tr>\n",
              "      <th>0</th>\n",
              "      <td>A0A0K3AR81</td>\n",
              "      <td>CELE_K06A5.1</td>\n",
              "      <td>GO:0140543</td>\n",
              "      <td>6239.K06A5.1.2</td>\n",
              "      <td>[GO:0140543, GO:0045893, GO:0019222, GO:003132...</td>\n",
              "    </tr>\n",
              "    <tr>\n",
              "      <th>1</th>\n",
              "      <td>A0A0K3AR90</td>\n",
              "      <td>tom-1</td>\n",
              "      <td>GO:0010807</td>\n",
              "      <td>6239.M01A10.2c</td>\n",
              "      <td>[GO:0010807, GO:0065007, GO:0050789, GO:004408...</td>\n",
              "    </tr>\n",
              "    <tr>\n",
              "      <th>10</th>\n",
              "      <td>A0A0K3AR90</td>\n",
              "      <td>tom-1</td>\n",
              "      <td>GO:0099161</td>\n",
              "      <td>6239.M01A10.2c</td>\n",
              "      <td>[GO:0099161, GO:0050794, GO:0060627, GO:005104...</td>\n",
              "    </tr>\n",
              "    <tr>\n",
              "      <th>13</th>\n",
              "      <td>A0A0K3AR90</td>\n",
              "      <td>tom-1</td>\n",
              "      <td>GO:0099148</td>\n",
              "      <td>6239.M01A10.2c</td>\n",
              "      <td>[GO:0099148, GO:0065007, GO:0060341, GO:005078...</td>\n",
              "    </tr>\n",
              "    <tr>\n",
              "      <th>17</th>\n",
              "      <td>A0A0K3AUE4</td>\n",
              "      <td>sea-2</td>\n",
              "      <td>GO:0008340</td>\n",
              "      <td>6239.K10G6.3a</td>\n",
              "      <td>[GO:0008340, GO:0032501, GO:0008150]</td>\n",
              "    </tr>\n",
              "  </tbody>\n",
              "</table>\n",
              "</div>"
            ],
            "text/plain": [
              "   GENE PRODUCT ID  ...                                               Prop\n",
              "0       A0A0K3AR81  ...  [GO:0140543, GO:0045893, GO:0019222, GO:003132...\n",
              "1       A0A0K3AR90  ...  [GO:0010807, GO:0065007, GO:0050789, GO:004408...\n",
              "10      A0A0K3AR90  ...  [GO:0099161, GO:0050794, GO:0060627, GO:005104...\n",
              "13      A0A0K3AR90  ...  [GO:0099148, GO:0065007, GO:0060341, GO:005078...\n",
              "17      A0A0K3AUE4  ...               [GO:0008340, GO:0032501, GO:0008150]\n",
              "\n",
              "[5 rows x 5 columns]"
            ]
          },
          "metadata": {
            "tags": []
          },
          "execution_count": 40
        }
      ]
    },
    {
      "cell_type": "code",
      "metadata": {
        "id": "PP1s5ATZ5XNL"
      },
      "source": [
        "#creating a dictionary, with proteins identified by STRING IDs as keys and all annotations (original + propagations) as values\n",
        "#saving to file for use in further experiments\n",
        "group = (final_annos_BP.groupby('STRING ID')['Prop'].apply(list)).to_dict()\n",
        "for key in group:\n",
        "  l = group[key]\n",
        "  flat_l = [item for sublist in l for item in sublist]\n",
        "  group[key] = list(set(flat_l))\n",
        "\n",
        "with open('prop_anno_STRING.txt', 'w') as fp:\n",
        "    fp.write(json.dumps(group))"
      ],
      "execution_count": null,
      "outputs": []
    }
  ]
}